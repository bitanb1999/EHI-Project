{
  "nbformat": 4,
  "nbformat_minor": 0,
  "metadata": {
    "colab": {
      "name": "Evolent Health.ipynb",
      "provenance": [],
      "collapsed_sections": [
        "Po8kV5cylZjk",
        "n__0kS9TnAB4",
        "5cYdk8UkquP0"
      ]
    },
    "kernelspec": {
      "name": "python3",
      "display_name": "Python 3"
    },
    "language_info": {
      "name": "python"
    }
  },
  "cells": [
    {
      "cell_type": "markdown",
      "source": [
        "## Evolent Health:"
      ],
      "metadata": {
        "id": "Ah2Cn9w6lUrX"
      }
    },
    {
      "cell_type": "markdown",
      "source": [
        "####Dependencies:"
      ],
      "metadata": {
        "id": "Po8kV5cylZjk"
      }
    },
    {
      "cell_type": "code",
      "source": [
        "import numpy as np\n",
        "import pandas as pd\n",
        "import gensim\n",
        "from keras.preprocessing import text\n",
        "from sklearn.feature_extraction.text import CountVectorizer\n",
        "from sklearn.linear_model import LogisticRegression\n",
        "from sklearn.metrics import accuracy_score\n",
        "from sklearn.metrics import confusion_matrix\n",
        "import seaborn as sns\n",
        "import matplotlib\n",
        "import matplotlib.pyplot as plt\n",
        "import matplotlib.mlab as mlab\n",
        "from matplotlib import cm\n",
        "%matplotlib inline\n",
        "from sklearn.model_selection import train_test_split\n",
        "\n",
        "import re\n",
        "from bs4 import BeautifulSoup\n",
        "\n",
        "import nltk\n"
      ],
      "metadata": {
        "id": "y4TtoZaylX7T"
      },
      "execution_count": 1,
      "outputs": []
    },
    {
      "cell_type": "markdown",
      "source": [
        "#### Data:"
      ],
      "metadata": {
        "id": "n__0kS9TnAB4"
      }
    },
    {
      "cell_type": "code",
      "source": [
        "df=pd.read_csv(\"/content/drive/MyDrive/BeerDataScienceProject.csv\", encoding=\"ISO-8859-1\")\n",
        "df.head()"
      ],
      "metadata": {
        "colab": {
          "base_uri": "https://localhost:8080/",
          "height": 531
        },
        "id": "V16U4Fzemz8N",
        "outputId": "b6677dce-9362-45a5-c238-49fe2ffef2f7"
      },
      "execution_count": 2,
      "outputs": [
        {
          "output_type": "execute_result",
          "data": {
            "text/html": [
              "\n",
              "  <div id=\"df-d71ec389-17d9-46f3-8726-cd36d67d9003\">\n",
              "    <div class=\"colab-df-container\">\n",
              "      <div>\n",
              "<style scoped>\n",
              "    .dataframe tbody tr th:only-of-type {\n",
              "        vertical-align: middle;\n",
              "    }\n",
              "\n",
              "    .dataframe tbody tr th {\n",
              "        vertical-align: top;\n",
              "    }\n",
              "\n",
              "    .dataframe thead th {\n",
              "        text-align: right;\n",
              "    }\n",
              "</style>\n",
              "<table border=\"1\" class=\"dataframe\">\n",
              "  <thead>\n",
              "    <tr style=\"text-align: right;\">\n",
              "      <th></th>\n",
              "      <th>beer_ABV</th>\n",
              "      <th>beer_beerId</th>\n",
              "      <th>beer_brewerId</th>\n",
              "      <th>beer_name</th>\n",
              "      <th>beer_style</th>\n",
              "      <th>review_appearance</th>\n",
              "      <th>review_palette</th>\n",
              "      <th>review_overall</th>\n",
              "      <th>review_taste</th>\n",
              "      <th>review_profileName</th>\n",
              "      <th>review_aroma</th>\n",
              "      <th>review_text</th>\n",
              "      <th>review_time</th>\n",
              "    </tr>\n",
              "  </thead>\n",
              "  <tbody>\n",
              "    <tr>\n",
              "      <th>0</th>\n",
              "      <td>5.0</td>\n",
              "      <td>47986</td>\n",
              "      <td>10325</td>\n",
              "      <td>Sausa Weizen</td>\n",
              "      <td>Hefeweizen</td>\n",
              "      <td>2.5</td>\n",
              "      <td>2.0</td>\n",
              "      <td>1.5</td>\n",
              "      <td>1.5</td>\n",
              "      <td>stcules</td>\n",
              "      <td>1.5</td>\n",
              "      <td>A lot of foam. But a lot. In the smell some ba...</td>\n",
              "      <td>1234817823</td>\n",
              "    </tr>\n",
              "    <tr>\n",
              "      <th>1</th>\n",
              "      <td>6.2</td>\n",
              "      <td>48213</td>\n",
              "      <td>10325</td>\n",
              "      <td>Red Moon</td>\n",
              "      <td>English Strong Ale</td>\n",
              "      <td>3.0</td>\n",
              "      <td>2.5</td>\n",
              "      <td>3.0</td>\n",
              "      <td>3.0</td>\n",
              "      <td>stcules</td>\n",
              "      <td>3.0</td>\n",
              "      <td>Dark red color, light beige foam, average. In ...</td>\n",
              "      <td>1235915097</td>\n",
              "    </tr>\n",
              "    <tr>\n",
              "      <th>2</th>\n",
              "      <td>6.5</td>\n",
              "      <td>48215</td>\n",
              "      <td>10325</td>\n",
              "      <td>Black Horse Black Beer</td>\n",
              "      <td>Foreign / Export Stout</td>\n",
              "      <td>3.0</td>\n",
              "      <td>2.5</td>\n",
              "      <td>3.0</td>\n",
              "      <td>3.0</td>\n",
              "      <td>stcules</td>\n",
              "      <td>3.0</td>\n",
              "      <td>Almost totally black. Beige foam, quite compac...</td>\n",
              "      <td>1235916604</td>\n",
              "    </tr>\n",
              "    <tr>\n",
              "      <th>3</th>\n",
              "      <td>5.0</td>\n",
              "      <td>47969</td>\n",
              "      <td>10325</td>\n",
              "      <td>Sausa Pils</td>\n",
              "      <td>German Pilsener</td>\n",
              "      <td>3.5</td>\n",
              "      <td>3.0</td>\n",
              "      <td>3.0</td>\n",
              "      <td>2.5</td>\n",
              "      <td>stcules</td>\n",
              "      <td>3.0</td>\n",
              "      <td>Golden yellow color. White, compact foam, quit...</td>\n",
              "      <td>1234725145</td>\n",
              "    </tr>\n",
              "    <tr>\n",
              "      <th>4</th>\n",
              "      <td>7.7</td>\n",
              "      <td>64883</td>\n",
              "      <td>1075</td>\n",
              "      <td>Cauldron DIPA</td>\n",
              "      <td>American Double / Imperial IPA</td>\n",
              "      <td>4.0</td>\n",
              "      <td>4.5</td>\n",
              "      <td>4.0</td>\n",
              "      <td>4.0</td>\n",
              "      <td>johnmichaelsen</td>\n",
              "      <td>4.5</td>\n",
              "      <td>According to the website, the style for the Ca...</td>\n",
              "      <td>1293735206</td>\n",
              "    </tr>\n",
              "  </tbody>\n",
              "</table>\n",
              "</div>\n",
              "      <button class=\"colab-df-convert\" onclick=\"convertToInteractive('df-d71ec389-17d9-46f3-8726-cd36d67d9003')\"\n",
              "              title=\"Convert this dataframe to an interactive table.\"\n",
              "              style=\"display:none;\">\n",
              "        \n",
              "  <svg xmlns=\"http://www.w3.org/2000/svg\" height=\"24px\"viewBox=\"0 0 24 24\"\n",
              "       width=\"24px\">\n",
              "    <path d=\"M0 0h24v24H0V0z\" fill=\"none\"/>\n",
              "    <path d=\"M18.56 5.44l.94 2.06.94-2.06 2.06-.94-2.06-.94-.94-2.06-.94 2.06-2.06.94zm-11 1L8.5 8.5l.94-2.06 2.06-.94-2.06-.94L8.5 2.5l-.94 2.06-2.06.94zm10 10l.94 2.06.94-2.06 2.06-.94-2.06-.94-.94-2.06-.94 2.06-2.06.94z\"/><path d=\"M17.41 7.96l-1.37-1.37c-.4-.4-.92-.59-1.43-.59-.52 0-1.04.2-1.43.59L10.3 9.45l-7.72 7.72c-.78.78-.78 2.05 0 2.83L4 21.41c.39.39.9.59 1.41.59.51 0 1.02-.2 1.41-.59l7.78-7.78 2.81-2.81c.8-.78.8-2.07 0-2.86zM5.41 20L4 18.59l7.72-7.72 1.47 1.35L5.41 20z\"/>\n",
              "  </svg>\n",
              "      </button>\n",
              "      \n",
              "  <style>\n",
              "    .colab-df-container {\n",
              "      display:flex;\n",
              "      flex-wrap:wrap;\n",
              "      gap: 12px;\n",
              "    }\n",
              "\n",
              "    .colab-df-convert {\n",
              "      background-color: #E8F0FE;\n",
              "      border: none;\n",
              "      border-radius: 50%;\n",
              "      cursor: pointer;\n",
              "      display: none;\n",
              "      fill: #1967D2;\n",
              "      height: 32px;\n",
              "      padding: 0 0 0 0;\n",
              "      width: 32px;\n",
              "    }\n",
              "\n",
              "    .colab-df-convert:hover {\n",
              "      background-color: #E2EBFA;\n",
              "      box-shadow: 0px 1px 2px rgba(60, 64, 67, 0.3), 0px 1px 3px 1px rgba(60, 64, 67, 0.15);\n",
              "      fill: #174EA6;\n",
              "    }\n",
              "\n",
              "    [theme=dark] .colab-df-convert {\n",
              "      background-color: #3B4455;\n",
              "      fill: #D2E3FC;\n",
              "    }\n",
              "\n",
              "    [theme=dark] .colab-df-convert:hover {\n",
              "      background-color: #434B5C;\n",
              "      box-shadow: 0px 1px 3px 1px rgba(0, 0, 0, 0.15);\n",
              "      filter: drop-shadow(0px 1px 2px rgba(0, 0, 0, 0.3));\n",
              "      fill: #FFFFFF;\n",
              "    }\n",
              "  </style>\n",
              "\n",
              "      <script>\n",
              "        const buttonEl =\n",
              "          document.querySelector('#df-d71ec389-17d9-46f3-8726-cd36d67d9003 button.colab-df-convert');\n",
              "        buttonEl.style.display =\n",
              "          google.colab.kernel.accessAllowed ? 'block' : 'none';\n",
              "\n",
              "        async function convertToInteractive(key) {\n",
              "          const element = document.querySelector('#df-d71ec389-17d9-46f3-8726-cd36d67d9003');\n",
              "          const dataTable =\n",
              "            await google.colab.kernel.invokeFunction('convertToInteractive',\n",
              "                                                     [key], {});\n",
              "          if (!dataTable) return;\n",
              "\n",
              "          const docLinkHtml = 'Like what you see? Visit the ' +\n",
              "            '<a target=\"_blank\" href=https://colab.research.google.com/notebooks/data_table.ipynb>data table notebook</a>'\n",
              "            + ' to learn more about interactive tables.';\n",
              "          element.innerHTML = '';\n",
              "          dataTable['output_type'] = 'display_data';\n",
              "          await google.colab.output.renderOutput(dataTable, element);\n",
              "          const docLink = document.createElement('div');\n",
              "          docLink.innerHTML = docLinkHtml;\n",
              "          element.appendChild(docLink);\n",
              "        }\n",
              "      </script>\n",
              "    </div>\n",
              "  </div>\n",
              "  "
            ],
            "text/plain": [
              "   beer_ABV  ...  review_time\n",
              "0       5.0  ...   1234817823\n",
              "1       6.2  ...   1235915097\n",
              "2       6.5  ...   1235916604\n",
              "3       5.0  ...   1234725145\n",
              "4       7.7  ...   1293735206\n",
              "\n",
              "[5 rows x 13 columns]"
            ]
          },
          "metadata": {},
          "execution_count": 2
        }
      ]
    },
    {
      "cell_type": "code",
      "source": [
        "#helper function to view the table content details\n",
        "from IPython.display import display, HTML\n",
        "\n",
        "def pretty_print(df):\n",
        "    return display( HTML( df.to_html().replace(\"\\\\n\",\"<br>\") ) )\n",
        "def tbl_report(tbl, cols=None, card=52):\n",
        "    print(\"Table Shape\", tbl.shape)\n",
        "    dtypes = tbl.dtypes\n",
        "    nulls = []\n",
        "    uniques = []\n",
        "    numuniques = []\n",
        "    vcs = []\n",
        "    for col in dtypes.index:\n",
        "        n = tbl[col].isnull().sum()\n",
        "        nulls.append(n)\n",
        "        strdtcol = str(dtypes[col])\n",
        "        #if strdtcol == 'object' or strdtcol[0:3] == 'int' or strdtcol[0:3] == 'int':\n",
        "        #print(strdtcol)\n",
        "        uniqs = tbl[col].unique()\n",
        "        uniquenums = uniqs.shape[0]\n",
        "        if uniquenums < card: # low cardinality\n",
        "            valcounts = pd.value_counts(tbl[col], dropna=False)\n",
        "            vc = \"\\n\".join([\"{}:{}\".format(k,v) for k, v in valcounts.items()])\n",
        "        else:\n",
        "            vc='NA'\n",
        "        uniques.append(uniqs)\n",
        "        numuniques.append(uniquenums)\n",
        "        vcs.append(vc)\n",
        "    nullseries = pd.Series(nulls, index=dtypes.index)\n",
        "    uniqueseries = pd.Series(uniques, index=dtypes.index)\n",
        "    numuniqueseries = pd.Series(numuniques, index=dtypes.index)\n",
        "    vcseries = pd.Series(vcs, index=dtypes.index)\n",
        "    df = pd.concat([dtypes, nullseries, uniqueseries, numuniqueseries, vcseries], axis=1)\n",
        "    df.columns = ['dtype', 'nulls', 'uniques', 'num_uniques', 'value_counts']\n",
        "    if cols:\n",
        "        return pretty_print(df[cols])\n",
        "    return pretty_print(df)"
      ],
      "metadata": {
        "id": "PfuWYyZppI2O"
      },
      "execution_count": 3,
      "outputs": []
    },
    {
      "cell_type": "code",
      "source": [
        "tbl_report(df)"
      ],
      "metadata": {
        "colab": {
          "base_uri": "https://localhost:8080/",
          "height": 1000
        },
        "id": "AgsHNwUWpoqU",
        "outputId": "f186c9dc-bcc2-421c-f92d-d6e9694c439d"
      },
      "execution_count": 4,
      "outputs": [
        {
          "output_type": "stream",
          "name": "stdout",
          "text": [
            "Table Shape (528870, 13)\n"
          ]
        },
        {
          "output_type": "display_data",
          "data": {
            "text/html": [
              "<table border=\"1\" class=\"dataframe\">\n",
              "  <thead>\n",
              "    <tr style=\"text-align: right;\">\n",
              "      <th></th>\n",
              "      <th>dtype</th>\n",
              "      <th>nulls</th>\n",
              "      <th>uniques</th>\n",
              "      <th>num_uniques</th>\n",
              "      <th>value_counts</th>\n",
              "    </tr>\n",
              "  </thead>\n",
              "  <tbody>\n",
              "    <tr>\n",
              "      <th>beer_ABV</th>\n",
              "      <td>float64</td>\n",
              "      <td>20280</td>\n",
              "      <td>[5.0, 6.2, 6.5, 7.7, 4.7, 7.2, 5.6, 7.4, 5.5, 5.8, 8.1, nan, 8.8, 5.7, 7.0, 6.3, 3.9, 6.7, 6.1, 9.5, 5.2, 6.8, 7.6, 5.4, 8.5, 4.5, 4.2, 4.0, 9.0, 8.0, 4.1, 10.4, 5.1, 10.0, 7.1, 4.6, 4.8, 7.5, 0.1, 3.5, 3.8, 4.4, 2.2, 4.9, 2.8, 6.0, 5.3, 8.4, 10.5, 9.8, 5.9, 12.0, 4.3, 4.19, 8.6, 5.79, 10.9, 9.3, 8.85, 8.3, 8.7, 6.6, 7.25, 3.75, 3.1, 5.25, 4.37, 11.1, 6.4, 11.0, 0.5, 8.2, 11.3, 7.8, 6.9, 9.4, 13.0, 4.75, 5.75, 9.2, 1.5, 3.0, 3.7, 7.9, 9.9, 8.9, 7.3, 2.5, 14.0, 15.0, 11.5, 7.82, 16.0, 10.25, 10.1, 3.2, 3.4, 3.6, 30.86, 57.7, ...]</td>\n",
              "      <td>284</td>\n",
              "      <td>NA</td>\n",
              "    </tr>\n",
              "    <tr>\n",
              "      <th>beer_beerId</th>\n",
              "      <td>int64</td>\n",
              "      <td>0</td>\n",
              "      <td>[47986, 48213, 48215, 47969, 64883, 52159, 10789, 12386, 58046, 25414, 10788, 58920, 21241, 20818, 10786, 10794, 54330, 20817, 61427, 10784, 76963, 23290, 54723, 3274, 60951, 37917, 56071, 42964, 10793, 10785, 72330, 60990, 54216, 39314, 45855, 45543, 45628, 55951, 8769, 64800, 68668, 68672, 69087, 64803, 15894, 44082, 39606, 41584, 12835, 51834, 41084, 8770, 37498, 70395, 49803, 30090, 30084, 30088, 27689, 30089, 30085, 1415, 66308, 1419, 59239, 436, 3386, 33584, 1417, 1414, 1413, 1418, 23326, 23329, 23328, 23327, 40395, 40394, 27666, 26817, 26133, 27664, 26419, 26418, 26420, 27799, 26132, 52445, 36470, 22808, 3825, 36580, 22604, 38540, 23315, 36609, 36484, 36720, 22615, 42953, ...]</td>\n",
              "      <td>20200</td>\n",
              "      <td>NA</td>\n",
              "    </tr>\n",
              "    <tr>\n",
              "      <th>beer_brewerId</th>\n",
              "      <td>int64</td>\n",
              "      <td>0</td>\n",
              "      <td>[10325, 1075, 8802, 2724, 7345, 12770, 163, 3407, 16604, 11715, 18185, 1463, 1454, 850, 15524, 577, 14756, 14589, 24162, 21841, 13614, 26612, 25484, 13956, 26983, 17293, 26990, 24517, 5330, 10912, 21138, 19380, 3087, 16859, 23246, 421, 7314, 18847, 23082, 2188, 15527, 20658, 10103, 15607, 15636, 1746, 3631, 5476, 2055, 16994, 971, 25966, 25953, 10774, 9300, 14879, 20988, 2310, 17204, 1303, 25684, 936, 2446, 1487, 5007, 12907, 21516, 3282, 23022, 3207, 4078, 12003, 6277, 1917, 22288, 16791, 16863, 22167, 23739, 1386, 2430, 24072, 9345, 1482, 5752, 765, 26946, 10950, 395, 3965, 26816, 23020, 2647, 13670, 21590, 5049, 2464, 365, 16050, 14365, ...]</td>\n",
              "      <td>1803</td>\n",
              "      <td>NA</td>\n",
              "    </tr>\n",
              "    <tr>\n",
              "      <th>beer_name</th>\n",
              "      <td>object</td>\n",
              "      <td>0</td>\n",
              "      <td>[Sausa Weizen, Red Moon, Black Horse Black Beer, Sausa Pils, Cauldron DIPA, Caldera Ginger Beer, Caldera Oatmeal Stout, Caldera OBF 15, Rauch Ür Bock, Caldera Pale Ale, Pilot Rock Porter, Vas Deferens Ale, Cauldron Espresso Stout, Old Growth Imperial Stout, Dry Hop Red, Southside Strong, Caldera Märzen, Lawnmower Lager, Caldera Rose Petal (Kettle Series), Caldera IPA, Coconut Porter, Dry Hop Orange, Alpha Beta, Caldera Pilsener Bier, Hibiscus Ginger Beer, Exotic Erotic Passion Fruit Ale, Hopportunity Knocks, Imperial Stout, Cauldron Brew, Ashland Amber, Hop Hash, Mogli, Welsh Honey Bitter, Telford Porter, Celebration Ale, Welsh Pride, Honey Fayre, Holiday Imperial, Columbus India Pale Ale, Holiday XXII Imperial Blue, Luck O' The Irish, Old Oakland Ale, Yellowjacket Ale, Megalodon, Code Blue, Orca Porter, Leviathan Imperial Stout, Holiday Trappist Style Ale, Deviator Doppelbock, Blue Whale Ale, Grey Whale Ale, Killer Whale Stout, Emerald Ale, Schinderhannes Bock, Kirner Pils Premium, City Razz, City Light, City Pale Ale, City Stout, City Pumpkin, City Amber, Amstel Gold, Amstel Sterk (Strong), Amstel Oud Bruin, Amstel Malt, Amstel Light, Amstel Bright, Amstel (Pure Filtered), Amstel Lentebock, Amstel Lager, Amstel 1870, Amstel Bock, Amber IPA, Original Lager, Red Alt Ale, Gosch, Kollers Naturtrüb Dunkel, Kollers Naturtrüb Hell, Holiday Ale, Pumpkin Ale, Dry Stout, Newark IPA, Red Rye Ale, Wheat Ale, Pale Ale, Sweet Stout, IPA, Nobu Special Reserve, Harboe Silver Beer 3,5%, Harboe Den Glada Danskens Lättöl, Harboe Bjørnebryg (Bear Beer), Harboe Pilsner 2,8%, Harboe Bjørnebryg Extra Stark (Bear Beer Extra Strong), Harboe Kräftöl, Netto \"24\" Fødselsdags-Bryg, Harboe Påskebryg 2,8%, Harbroe Classic Beer 2,8%, Harboe Pilsner 3,5%, Harboe Classic 110, Skælskør Original Black, ...]</td>\n",
              "      <td>18339</td>\n",
              "      <td>NA</td>\n",
              "    </tr>\n",
              "    <tr>\n",
              "      <th>beer_style</th>\n",
              "      <td>object</td>\n",
              "      <td>0</td>\n",
              "      <td>[Hefeweizen, English Strong Ale, Foreign / Export Stout, German Pilsener, American Double / Imperial IPA, Herbed / Spiced Beer, Oatmeal Stout, American Pale Lager, Rauchbier, American Pale Ale (APA), American Porter, Belgian Strong Dark Ale, American Stout, Russian Imperial Stout, American Amber / Red Ale, American Strong Ale, Märzen / Oktoberfest, American Adjunct Lager, American Blonde Ale, American IPA, Fruit / Vegetable Beer, American Double / Imperial Stout, English Bitter, English Porter, Irish Dry Stout, American Barleywine, Belgian Strong Pale Ale, Doppelbock, Maibock / Helles Bock, Light Lager, Pumpkin Ale, Dortmunder / Export Lager, Euro Strong Lager, Euro Dark Lager, Low Alcohol Beer, Euro Pale Lager, Bock, English India Pale Ale (IPA), Altbier, Kölsch, Munich Dunkel Lager, Rye Beer, American Pale Wheat Ale, Milk / Sweet Stout, Schwarzbier, Vienna Lager, American Amber / Red Lager, Scottish Ale, Witbier, Saison / Farmhouse Ale, English Brown Ale, American Black Ale, English Barleywine, English Dark Mild Ale, Extra Special / Strong Bitter (ESB), California Common / Steam Beer, Scotch Ale / Wee Heavy, English Pale Ale, Belgian IPA, Belgian Pale Ale, Tripel, Flanders Oud Bruin, Czech Pilsener, American Brown Ale, Smoked Beer, Flanders Red Ale, Dunkelweizen, Dubbel, Roggenbier, Keller Bier / Zwickel Bier, Belgian Dark Ale, Winter Warmer, Bière de Garde, Japanese Rice Lager, Black &amp; Tan, Irish Red Ale, Chile Beer, English Stout, Cream Ale, American Wild Ale, Weizenbock, American Double / Imperial Pilsner, Scottish Gruit / Ancient Herbed Ale, Wheatwine, American Dark Wheat Ale, American Malt Liquor, Baltic Porter, Munich Helles Lager, Kristalweizen, English Pale Mild Ale, Lambic - Fruit, Old Ale, Quadrupel (Quad), Braggot, Lambic - Unblended, Eisbock, Berliner Weissbier, Kvass, Faro, Gueuze, ...]</td>\n",
              "      <td>104</td>\n",
              "      <td>NA</td>\n",
              "    </tr>\n",
              "    <tr>\n",
              "      <th>review_appearance</th>\n",
              "      <td>float64</td>\n",
              "      <td>0</td>\n",
              "      <td>[2.5, 3.0, 3.5, 4.0, 5.0, 4.5, 2.0, 1.0, 1.5, 0.0]</td>\n",
              "      <td>10</td>\n",
              "      <td>4.0:226081<br>3.5:103728<br>4.5:100536<br>3.0:53194<br>5.0:23107<br>2.5:12258<br>2.0:7513<br>1.5:1616<br>1.0:834<br>0.0:3</td>\n",
              "    </tr>\n",
              "    <tr>\n",
              "      <th>review_palette</th>\n",
              "      <td>float64</td>\n",
              "      <td>0</td>\n",
              "      <td>[2.0, 2.5, 3.0, 4.5, 3.5, 5.0, 4.0, 1.5, 1.0]</td>\n",
              "      <td>9</td>\n",
              "      <td>4.0:188463<br>3.5:120100<br>4.5:93923<br>3.0:64623<br>5.0:22320<br>2.5:20936<br>2.0:13024<br>1.5:3579<br>1.0:1902</td>\n",
              "    </tr>\n",
              "    <tr>\n",
              "      <th>review_overall</th>\n",
              "      <td>float64</td>\n",
              "      <td>0</td>\n",
              "      <td>[1.5, 3.0, 4.0, 3.5, 4.5, 5.0, 2.0, 2.5, 1.0, 0.0]</td>\n",
              "      <td>10</td>\n",
              "      <td>4.0:196544<br>4.5:110928<br>3.5:98901<br>3.0:53707<br>5.0:31028<br>2.5:18539<br>2.0:11931<br>1.5:3996<br>1.0:3293<br>0.0:3</td>\n",
              "    </tr>\n",
              "    <tr>\n",
              "      <th>review_taste</th>\n",
              "      <td>float64</td>\n",
              "      <td>0</td>\n",
              "      <td>[1.5, 3.0, 2.5, 4.0, 2.0, 3.5, 4.5, 5.0, 1.0]</td>\n",
              "      <td>9</td>\n",
              "      <td>4.0:205951<br>3.5:110996<br>4.5:86918<br>3.0:66954<br>5.0:21648<br>2.5:19647<br>2.0:11732<br>1.5:3184<br>1.0:1840</td>\n",
              "    </tr>\n",
              "    <tr>\n",
              "      <th>review_profileName</th>\n",
              "      <td>object</td>\n",
              "      <td>115</td>\n",
              "      <td>[stcules, johnmichaelsen, oline73, Reidrover, alpinebryant, LordAdmNelson, augustgarage, MadeInOregon, rawthar, Halcyondays, RangerClegg, Beerandraiderfan, RedDiamond, beerguy101, UCLABrewN84, zaphodchak, Tilley4, mikedrinksbeer2, dbmernin83, titosupertramp, optimator13, Blakaeris, bashiba, Klym, flexabull, Bung, oberon, t420o, DarthKostrizer, MrVonzipper, TheWhiskerReview, Elimination, DoubleJ, Deuane, Mattybeerguy, micromaniac129, beagle75, northyorksammy, vette2006c5r, EvanEngelstad, djeucalyptus, ccrida, cooch69, DogFood11, brewandbbq, Fatehunter, hopsbreath, Slatetank, Jason, Proteus93, SShelly, zoso1967, msubulldog25, NJpadreFan, vacax, d0ggnate, babyhobbes, mdagnew, mikesgroove, hdofu, argock, Seanibus, GratefulBeerGuy, PDXHops, IMincedTheKing, Goliath, zeff80, akorsak, wchesak, beer2day, bfields4, dyan, Monkeyknife, HopDerek, mtrentm, maximum12, blackie, JayQue, bbothen, Kegatron, CrellMoset, beerman21, BeerSox, hopdog, gford217, thehand, GbVDave, dfitch81, RJLarse, SurlyDuff, Wetpaperbag, largadeer, cswhitehorse, elniko, deltatauhobbit, woemad, czechsaaz, Wasatch, MuenchenerKindl, brentk56, ...]</td>\n",
              "      <td>22801</td>\n",
              "      <td>NA</td>\n",
              "    </tr>\n",
              "    <tr>\n",
              "      <th>review_aroma</th>\n",
              "      <td>float64</td>\n",
              "      <td>0</td>\n",
              "      <td>[1.5, 3.0, 4.5, 3.5, 4.0, 2.0, 5.0, 2.5, 1.0]</td>\n",
              "      <td>9</td>\n",
              "      <td>4.0:182294<br>4.5:116460<br>3.5:106232<br>3.0:53495<br>5.0:29031<br>2.5:21060<br>2.0:13013<br>1.5:4446<br>1.0:2839</td>\n",
              "    </tr>\n",
              "    <tr>\n",
              "      <th>review_text</th>\n",
              "      <td>object</td>\n",
              "      <td>119</td>\n",
              "      <td>[A lot of foam. But a lot. In the smell some banana, and then lactic and tart. Not a good start. Quite dark orange in color, with a lively carbonation (now visible, under the foam). Again tending to lactic sourness. Same for the taste. With some yeast and banana., Dark red color, light beige foam, average. In the smell malt and caramel, not really light. Again malt and caramel in the taste, not bad in the end. Maybe a note of honey in teh back, and a light fruitiness. Average body. In the aftertaste a light bitterness, with the malt and red fruit. Nothing exceptional, but not bad, drinkable beer., Almost totally black. Beige foam, quite compact, not bad. Light smell, just a bit of roast, and some hop. A bit too light. The taste is light oo, and drinkable, with some malt, roast, hints of coffee. Nothing exceptional, but after all drinkable and pleasant. Light to average body. In the aftertaste some dust, somr roast, hint of caramel, and a bit of bitterness. No defect, drinkable, not bad., Golden yellow color. White, compact foam, quite creamy. Good appearance. Fresh smell, with good hop. Quite dry, with a good grassy note. Hay. Fresh and pleasant. More sweet in the mouth, with honey. The hop comes back in the end, and in the aftertaste. Not bad, but a bit too sweet for a pils. In the end some vanilla and camomile note. In the aftertaste, too. Though the hop, a bit too sweet. Honest., According to the website, the style for the Caldera Cauldron changes every year. The current release is a DIPA, which frankly is the only cauldron I'm familiar with (it was an IPA/DIPA the last time I ordered a cauldron at the horsebrass several years back). In any event... at the Horse Brass yesterday. The beer pours an orange copper color with good head retention and lacing. The nose is all hoppy IPA goodness, showcasing a huge aroma of dry citrus, pine and sandlewood. The flavor profile replicates the nose pretty closely in this West Coast all the way DIPA. This DIPA is not for the faint of heart and is a bit much even for a hophead like myslf. The finish is quite dry and hoppy, and there's barely enough sweet malt to balance and hold up the avalanche of hoppy bitterness in this beer. Mouthfeel is actually fairly light, with a long, persistentely bitter finish. Drinkability is good, with the alcohol barely noticeable in this well crafted beer. Still, this beer is so hugely hoppy/bitter, it's really hard for me to imagine ordering more than a single glass. Regardless, this is a very impressive beer from the folks at Caldera., Poured from the bottle into a Chimay goblet. Appearance: Pours a slightly cloudy yellow/orange color with a half finger of fluffy white head. The head fades to a small layer on top of the pour. Smell: Very light and crisp. I'm definitely picking up the ginger, but it's not overly powerful. There is a slight sweetness from the malt as well. Taste: Very light and refreshing. The ginger shows up right away and then fades towards the finish of the sip. The finish is malty and bread like. Mouthfeel: The body is on the thin side with smooth carbonation and a very dry finish. Overall: This is a light and refreshing beer, but nothing spectacular. The amount of ginger is nice, but I would have liked to have more going on., 22 oz bottle from \"Lifesource\" Salem. $3.95 Nice golden clear beer body with a nice sized frothy/creamy white head. Ok aromas..mainlly a bit of ginger speice and some bready malt..simple nice Taste very nice indeed..nice spicy ginger backed with slightly caramel maltiness..simple again but i like . Liked the mouthfeel of this one..very forward carbonation which helps the ginger effect and a lingering ginger in the after taste. Overall a simple ginger brew .I liked it, Bottle says \"Malt beverage brewed with Ginger and ginger added\" Sounds redundant to me, but lets move on. Pours a bud light yellow with a tiny white head of small bubbles. The beer is almost as clear as a glass of water with some food coloring in it. Aroma of light ginger, a very light malt aroma but primarily odorless on the malt side. I wouldn't be completely surprised if there were some adjuncts in here because of the lack of underlying malt flavors. Taste is of a light adjunct lager with a dosing of ginger. Not surprising there. This is a light session beer, good for the warmer days of spring / summer. Mouthfeel is extremely light, high carbonation. Overall decent. This would be great if you were drinking beers on draft at the bar with some friends just hanging out. I wouldn't necessarily seek it out though to drink out of a bottle., I'm not sure why I picked this up... I like ginger, and it was reasonably cheap compared to the other beers I was looking at. Pours a pale golden color with smallish head. Nose is largely uneventful, some ginger in there, a bit of pear, but mainly normal lager. Taste is pretty good, bringing a bit more of the ginger to the fore. MF was a bit fizzy, not terrible though. Easy drinker, I had no problem finishing the bomber. Interesting, but I probably won't get it again., Poured from a 22oz bomber into my Drie Fonteinen tumbler. Hazy titanium yellow body (which catches the shadows forming a beautiful mysterious gradient) with an incredibly dense pillow of magnolia cream. Heavy persistent head and rich creamy lacing. Pale malt, asian pear, and a hint of citrus in the nose. A vaguely tropical lager... Tastes very much like a well done APA, with a nice balance of pale malt and low hop bitterness. The ginger adds to the refreshing character, but isn't readily detectable at first (lacks any \"bite\"). Medium-dry finish - very clean and extremely quaffable. I can imagine hibiscus and beets working in small quantities, though I think they omitted those for this version... Light bodied, pillowy, smooth and moderately carbonated. Don't go into this expecting a ginger beer (despite its name) as it has little in common with that spicy soft drink. This is a wonderful session ale though, and worth seeking out if you are a fan of light yet flavorful lagers. Would obviously go perfectly with sushi., OK, so the only reason I bought this while shopping at Whole Foods was because I've never had a \"ginger beer\" unless it was ginger ALE...and we all know that's not the kind of \"beer\" we're interested in on this site! I was very excited to try this one!... When poured out it looks like a cheapo macro lager at first sight, then the slowly fading head suggests otherwise. The body is crystal clear and is a very light straw color. The head is bright white and slowly dissipates, but is initially quite thick. Smell is adjuncty, but there are slight notes of honey and some kind of herby thing going on...ginger perhaps? Can't really tell. From the smell there is obviously something different about this beer though. It has a unique spicy smell to it and reminds me a lot of basil, not ginger. I really can't quite place everything that I smell, but it is a very nice aroma. Superb fragrance for this beer, though definitely not a \"ginger beer\" based on the smell. The taste is very unique also. It's kind of like a spiced pilsner or kolsch but the \"spice\" is kind of hard to identify. It does not taste like ginger. This beer actually reminds me a lot of Bison's Honey Basil ale. There is some definite astringent burn in the upper throat after swallowing that is no doubt from the ginger, but that is the only ginger I can detect with any certainty. It is only slightly hoppy and malty. This a very enjoyable, very drinkable beer (I could easily drink 2 22oz'ers) but I think it's failing in its claim to be a \"ginger\" beer because I don't smell it, can barely taste it, and can only really detect the ginger's physiological effects of a warm throat and stomach. So, rating this one is hard; I've never had a ginger beer so I don't really know what one ought to taste like...but then again I can't really tell if I'm tasting ginger here or the combination of other things. So confused. My recommendation to you Caldera folks: ADD MORE GINGER! There's obviously enough of a curiosity about this style to not hurt sales if it was strengthened. I for one could handle it., Notes from 6/24 A: Bright golden glowing beer in a moment of clarity with a lively white head of feathery fluff S: The ginger is definitely there, or am I smelling my Indian dinner? Almost cake-like in its malt aroma, sharply bready with a slight edge of sweetness T: Nice clear malty throat taste, reminds me of strands of complex sugars and grains, ginger is more subtle than I expected, more of an undertone than a backbone M: A refreshing light beer feel, like a pilsner or summer ale D: If this was a sixer instead of a double-deuce, I could see this being a fine picnic pounder Overall, pretty impressed for the particular style, 22 oz. bomber, A: Pours a clear yellow with a mild white head, good retention. S: Great nose of ginger, honey, perfume. T: Rather light upfront, it reminds me of Lawnmower, with a hint of ale fruitiness/Kolsch-like almost. Good ginger honey notes on the back end, not taking over the beer in any way. The ginger flavour is clear, but I wanted it to come out a little more in the end. M: Very light-bodied, watery, light base beer for sure. D: An easy drinking spiced beer, this will offend no one, but there's not a complexity to this brew at all., Is it possible for a bottle to be a novelty product? I bought it cause it's the only bottle of Caldera I've ever seen, so I guess so. Stoked to be the first to review a beer! That's a lot of responsibility so I might as well give it a thorough review. Poured into my New Belgium Tulip. A - Clear golden color with a bright white 1\" head that slowly fades to a ring around the top. Lacing is minimal, but still there and fighting to cling to the glass S - Smell is of ginger and honey. Very appealing. T - First hit is of ginger. Not too strong or biting but just the right amount. Fades to a sweetness on the tongue that is sort of perfect and then... a little bit of bite from the hops making their presence known. M - Medium bodied and full. A nice round beer for the summer. Not too heavy, definately not watery. Not very good at describing it other than it's good. D - I really like this beer and I could probably put 2 or 3 glasses away, so one bomber is enough for me. I think 2 bombers would be too much, but I could probably drink one and half, so I think I'll have to stick with the one. Overall this is a pretty good ginger beer. I think that for my money though, I'd rather buy Trade Route's Ginger Pale Ale. If you've never had a ginger beer, Pick it up., Brown in color, somewhere between a porter and a brown ale. Lacking in aroma, but no off stuff. Same with the taste, lacking flavor, complexity, just went with smoothness. No off flavors though, so I can't say this is bad, just unadventurous, especially for Caldera, whom I think is generally underrated. You really have to search to pull anything out of this in terms of the usual chocolate/coffee flavors, really, the only thing I can tell is that the oats did their job, because this is smooth and unoffensive. Other than that, extremely pedestrian., Caldera presents yet another circumstance where the brewery does not operate a brewpub, doesnt bottle their beers, and is located 300 miles from my home. To review their beers I traveled to their hometown of Ashland, OR and drank at the Ashland Creek Bar and Grill. This may have been a mistake. Though I had other reasons to visit Ashland, its disappointing (to say the least) to travel 300 miles and be served a spoiled beer. Both the Oatmeal Stout and Ashland Amber were of poor quality at the Ashland Creek Bar and Grill. In the case of the Oatmeal Stout, a nice measure of cream and a wayward thread of mint were marred by a sulfuric smell and likely bacterial infection. Though I cant say for certain, my best guess is that the house tap lines were something other than sanitized. I will attempt to revisit and re-evaluate this beer. But for the time being, its important to ask a pertinent question about quality control. Caldera is a 10 bbl microbrewery in a small town. How much responsibility do they have towards assuring that taps serving their product in their hometown are kept reasonably clean and free of bacterial encroachment? My answer to this question is that the brewery does have some responsibility to assure quality pours in its own hometown. This is especially so when they operate no pub of their own. Not only does this effort protect the consumer from being served a spoiled beer, but the enforcement of quality control measures at the point of consumption simply makes good business sense. Till then, theres nothing I really care say about this beer other than to wish whoever pursues it greater luck than I had at Ashland Creek., More of a 'dry' than a lager, tasted at the 2002 Oregon Brewers Festival. Orange color, orange flavor in nose. Light malts and fairly aggressively hopped; yet it is not very bitter. Interesting taste, complex and subtle. Light yet flavorful. Mouthfeel is full and round. Finish is clean and smooth. Aftertaste is slightly bitter. Nice beer. Would be a great beer to sip during a hot summer day., Pours a murky light brown with a 1 inch fizzy tan head that settles to a film on the top of the beer. Small dots of lace slowly drip back into the remaining beer on the drink down. Smell is of smoked meat, smoked cheese, campfire smoke, etc. Taste is of smoked meat/cheese, campfire smoke, wood, and a slight cocoa/coffee flavor on the finish. The aftertaste is also cocoa/coffee with just a hint of the smoke flavors. This beer has a crisp level of carbonation with a bubbly mouthfeel. Overall this is a very good rauchbier from Caldera that has a bit of a different flavor than German rauchbiers., Faint sudsy head with some with some dissipating fine surface. Light ruddy brown. Some lace. Smokiness in the nose along with pickling vinegar (faint), and some slightly musty malt. Plenty of bitter, slightly tangy, tannic beech smoke. Traces of sweet toffee on the finish. Feel is standard, smooth, but went flat quite fast., A new arrival to the West TN area... Pours quite a bit lighter than I was expecting. Almost like a brown ale? Good head retention though... Smoky bacon aromas upfront mesh with a sweet maltiness... This is definitely very smoky but not overpoweringly so... Its subtle at times and powerful at others on the nose... Like being in a smokehouse after the meat has already been removed... Very interesting... Sweet caramel malts surprise me as I thought the smoke would hit hard right off the bat... The smokiness here is beautifully done... Not a smoke bomb but rather the smoked meat flavors run parallel to the sweetness darting in and out, here and there... Very good example from Caldera here. Excellent use of the smoke with its subtleties..., Sampled 10/30/11 - Transferring the notes. A ruby pour with a half finger, off white head. Opaque. Smells like bacon it's so smoky. Very much a wood smoked scent, great on an autumn night. The flavor is full but not overbearing, smoky with a hint of sweetness. I dig this a lot, will seek out other rauchbiers for some comparison., This is my first rauchbier. Pours a burnt amber. Good head. Holy smoked meat! This has huge beef jerky on the nose. Salty smoked meat goodness. Tastes about the same as it the nose. Wood, smoked meat, cured meat, soy sauce. This is delicious for the first 6-8oz, then it gets to be a little much. I imagine after having this a few times, you appreciate the flavors more. Maybe I should've picked a tamer rauchbier to be my first, A: Pours a rich, ruby color, clear. Maybe a finger of off-white head. Thin cap with thick ring of bubbles around the edge of the glass. Light lacing. S: Wow. Smoked meat balanced by caramel, bready sweetness. I wish they would make this smell into a cologne..no shit, I'd wear it to special occasions. T: Taste is equally as good. Smoked meat with just a hint of peet. The nice thing about this beer is the smoked characteristics don't overpower the rest of the beer. The caramel, bready malts hold up nicely and there seems to a slightly hoppy finish. M: A little on the light side, but it's still manages to be somewhat creamy. O: I had heard some good things about this beer and it certainly lived up to my expectations. It's a very well crafted beer where the smoke asserts itself, but doesn't drown out everything else. I'll pick this up again without a doubt., Pours a mahogany color, rich, with a tan head. a finger, didn't stick around. Holy smokes! This is one of the most smokiest beer I've ever had! BUT. It's balance and not one sided. Smoke, cured bacon, rich caramel malts. More smoke. Ok, maybe it one sided, but it's heavenly. Rich caramel malts and salty cured bacon strips. Bacon lover right here, so, I don't feel the need to go on. Lighter, but medium in body. feels fine. Nothing tremendous. Aroma and flavor alone are mouthwatering. Bravo. More please!!!, Pours light caramel brown with reddish highlights. The crisp white head doesn't hang around long, but quickly dissipates to a thin ring. Aroma is intense meaty smokyness. Underneath is a mild malty sweetness. Taste is really interesting. The smoked meat quality is retained, but there is also a generous earthy, woody character. Caramel and toffee really round things out. Finishes with a mildly dry cedar character. Mouthfeel is a chewy, medium body. A flavorful brew. Strong smokiness is tempered by the rich caramel malt qualities. A real winner that could bring the non-smoke lover around., Poured a slightly cloudy deep amber/red color with a thin soap ring of head. The smell is amazing, big bacony smoked pork Rauch goodness. The taste follows the flavors nicely with a big smoked malt flavor with a nice bit of underlying sweetness, very pork like and very flavorful. Has a nice light bitterness in the finish that helps even it out very well. The mouthfeel is very slick and oily. Great Rauchbier!, Big thanks to N2168 for knocking this off my wants. Poured into a stone nonic and shared with my buddy Ryan. This was quite delicious. The pour made it seem a little lacking in carbonation, and while indeed it was light in carbonation I think it would have been awkward if it had been heavier considering the taste profile. This beer does such a good job of hitting the sweet and savory side of smoke. Nice big campfire smoke smell and taste without any roughness to it, with a nice smoked bacon savory sweetness. This is easy to drink and just downright delicious, would love to have a keg of this by my desk., On tap last night at the Caldera Tap House. Pours a bright and clear brown color, with a small white head. Aromas are quite potent. Lots of interesting smoke notes here, smoked meat, charred wood, like a camp out in a glass. Very nice. Flavor is like the nose, but toned down just a bit. Light caramel, bready, and slightly sweet up front. Beer then settles Into a smoke house flavor, hints of charred wood, and jerky. Mouthfeel is good, full, smooth, but not heavy at all. Overall, this is a really well made smoked lager. The nose is wonderfull. But the beer turns out to be plenty drinkable, I usually am a one and done with smoked beers, not this one. Another great offering from Caldera., 22 oz. Think I picked this up in Chicago Binny's Oak Park. Solid amber/brown pour, half finger of off white head disappated to a ring, but lasted. Smoked malt, peat, canadian bacon and some malty caramel. Starting out real well. Taste, solid dose of smoked ham, bacon, peat and a woodiness. Caramelly malt body is there, almost some faint raisin or apple cider, then finishes with solid bbq. The real deal, far far and away the best American version I've had of this style. So few try this style, even less accomplish the task. Lighter side of medium bodied. Coats well, goes down smooth, no alcohol. 7.4 is a little larger than some for the style, but it doesn't show itself. Best brew I've had in a while. First I've had from this brewery, if their others are even close to as good as this I won't be disapointed., Poured into a 1/2 liter stein a deep rich amber/bronze with a fluffy one finger head that took its time fading.Sweet smoke,brown,sugar,a bit of alcohol in the nose,mellow and sweetish,I found it appetizing.Cherry wood sweetness and light peppery spice in the nose,its gentle sweet smoke instead of in your face,mellow but assertive enough.A real nice smoked bock beer,I will grab a few of these this fall while eating alot of smoked meat off my smoker., A- Semi aggressive pour produces a 1-1/2 finger very light brown head that rests atop a beautiful deep copper colored beer with nice clarity. Nicve lacing. S- Very similar to a smoked porter but more smoke. The smoke smell is beautiful. It smells like a campfire and the cherry wood is definitely present. Excellent smelling beer. T- WOW! They were not kidding on the bottle when they said it has an intense smoke flavor. It is excellent and I could see some folks that the smoke is too in-your-face, but I love smoked beers and I love this one. This is as smoked wood forward as I've ever had. It's pretty much smoky wood, a slight malt sweetness, and finishes woody and smokey again. This is a perfect fall beer. M- Nice smooth mouthfeel with good carbonation. O- Not too complex because of the intense smoke taste but it works excellent in this beer. I will definitely be picking this up again., Look: Burnt orange in color with 1/4 inch head and no retention but did have some lacing Smell: This beer smells like a campfire in a bottle also reminds me of burnt oak chips or smoked salmon Taste: The flavor is this beer is quite unique. The smokiness is there in abundance and is pretty much just liquid smoke. Again the taste does follow suite with the noise there is a big smoked salmon flavor Mouthfeel: Medium body and medium carbonation Overall: If you love the idea of smoked anything actually you will love this beer. It is hands down one of the most smoky beers I have had to the point where it almost looses balance like say Alaskan smoked porter or Ass kisser smoked porter. However if you are into smoked beers this one is a must try, Bottleshare from Darthkostrizer with BHOBS and Alucard4 Pours a hazy reddish brown with a very quick dissipating bubbly head. No retention obviously. Holy shit. Smells exactly like uncooked applewood smoked bacon and/or smoked salmon(not fishy). Very nice yet strong smoke. Tastes just like it smells. Very strong different smoky flavor but Good. Good carbonation. Smooth and Medium bodied. Overall at some point in trying this beer You Will Say Holy Shit! It is Unlike any any beer I've had and any smoked beer for that matter. Its very interesting but Good. Although it very hard to drink alot of it. Definitely a bottleshare., Amber to yeloowcolored, was expecting darker, kind of even had a good degree of clarity to it. Holy cherry wood campfire smoke! This smelled just like you were out in the woods. Whoa, I could only take a small sip at first, massive liquid smoke feeling in the mouthfeel. Ugh. Its not so much as 'bad' as opposed to 'challenging'. I must admit, I could not even finish a taster of it. This is the most intense smoked beer I've ever come across, by far. I mean, beer geek bacon was a walk in the park compared to this. I could smell it all day. As far as drinking it, I'm cool with 1oz at a time, its that intense. If you like smoked beers, then check this out. If not, stay away. I kind of like them, trying to get into them more, so I'd try it again next time, but for now, I'm not worthy., Pours a brilliant black with ruby tones and a 1-finger tan head. Weak retention and lace, as expected from such a malty brew. The nose is a smoky, malty blast of barbequed pulled pork, woodsmoke and brown sugar with undertones of baked apples and peaches. Nothing over-the-top here- good balance and elegance in the aromas. And I dunno if it's just me and my mental associations, but I could swear I smelled the BBQ sauce in this too. The palate, much like the nose, is hugely smoky- more bbq and toffee flavors- with a medium-body and a slight creaminess from the malt. The hoppiness is mild while the smoke, naturally, is what lingers on the nice finish. A wonderful effort overall. I wouldn't go so far as to say world class, but the brew does have a nice bit of elegance which always gets more points from me. And the smokiness carries a lot of power without being too heavy., I have been thinking of picking up a bottle of this for a while pours a deep deep red, glowing, standing out a lot smell of slight smoke, peat, a bit of cherry, bbq Taste is mostly peated malt smoke, a lot of it...i was expecting more smokey, not peated. still a bit of darker, roasted fruits, a bit of burnt sugar, some peanut but overall makes it pretty unique. Mouthfeel is really smooth, lower carbed tickles the tongue just right, goes down well Overall its not bad, but as far as a rauch, feels like to much of that peated taste, dont know if I would pick it amongst other smoked beers., \"Warning, this beer has an intense smoke flavor.\" Warning...'cuz the flavor may cause me to overdose? I'll leave it at that and hope I don't O.D. off this 22 ounce bottle. On to the beer: The chestnut colored body is a looker in the stange glass. On top, the head has a beige color, a somewhat creamy texture, several groupings of lace sticking around and retention. The rauch part is done extremely well; mouth-watering jerkied meats stand out above with a little sweetness and a kiss of leafy hop. There's a lot of meat on the bones of this beer. Loads and loads and maltiness and medium smokiness make this a winner. The two run in sperate stages and never cross into each other's territory, which in this case I adore. Its got the smokiness that I would find in a summer sausage. On the malty side, there's loads of caramel. Little notes of ash give me the impression that I'm at a campfire. Hints of brown sugar. Alcohol slowly gets noticed, but in a good way; here it brings notes of raisin. There is a moderate hoppiness that can be sensed for a brief second, catch it before the smoke and malt beat it down. On the fuller side in terms of mouthfeel, quite smooth with the bubbles very small yet enough to be felt. If I hadn't stuffed myself with Chinese food earlier in the night, I may have been more tempted to overdose on Rauch Ur Bock. Only kidding, I have a good idea when to stop. Warning, you may be temped buy more bottles after you try your first. In short, superb., A-Bright, crystal clear, copper with a medium tan head that slowly fades to a thin cap and leaves light lace. S-Campfire smoke with a subtle hit of applewoods smoked bacon. Sweet caramel malt and spicy pepper notes accent in the background. T-Yes, this is a smoked brew but it never comes off as over the top. In fact it is about as perfect as it can get. Dry, woody smokiness and spicy, herbal hops dominate. Caramel malt sweetness provides a healthy backbone with tones of toasted biscuit, apple and buckwheat honey. M-Medium bodied with a feel that is bigger than it really is. Smooth and slick with a drying, woody astringency in the finish. Nice lingering sweet smokiness. D-Simply put---&amp;gt;OUTSTANDING! Quite possibly one of the finest Rauch beers I have had the pleasure of imbibing! This is a beer I wish I would have tried sooner so I could have gone out and stocked up on. Well done Caldera, this is a beer you should be VERY proud of!, Overall a really nice and interesting beer. I saw this on the shelf and hadn't tried anything yet from this brewery but looked interesting. Figured I would try it. It was really a nice beer. It definitely had a lot of smoky and meaty flavor to it! Very interesting and nice beer overall, I would drink it again., Amber brown in color with very little head but a nice ring. Nicely carbonated. Smells like a camp fire, malts have a good sweet character with an abundance of smoke. Taste is quite good with smokiness being pungent but not overwelming. A sweet tasting bock with smokiness coming through around mid drink with a smooth mellow finish. A good warming smoky beer., Poured from a bomber into a shaker pint glass. A: Clear, dark amber color with one finger of diminishing off-white foam head. Light lacing remains on the glass. S: Sweet woodsmoke is intense, developing fruity and savory complexity that distinguishes itself above the Bavarian archetypes. T: Begins off-dry, with caramel and sharp woodsmoke that becomes more dry by the middle. Acidity flares early but remains mild overall. Smoke nearly persists throughout, but diminishes by the clean, short finish. M: Thin to medium viscosity, wet on the palate but becoming a bit too insubstantial, with moderate carbonation. D/O: This Oregon-brewed rauchbeer develops some of the most intense woodsmoke essence encountered thus far, but it may be at the expense of the strong lager that is its base. Deciphels of the imports from Bamberg would find this beer's intensity surprising--if not off-putting--but it does struggle to leave any impression other than aggressively pungent woodsmoke., Complex enjoyable smoked. Tasty rich malt,caramel, woody,spicey, and balanced. Leans a tad to sweetness rather than bitterness. The smoke is significant in the aroma but not overwhelming. Above average mouthfeel. Yellow coloured body. Most drinkable.Thanks Augustgarage., This beer pours a dark amber color, with a perfect size head that did dispate quickly. The smell is strongly of malts, and a smokyness. The taste starts off very malty, smoked flavors, then finishs with a smoked sausage like flavor. The aftertaste is strongly of a smoked meat; and the flavor stays on your palette for some time, also nicely carbonated. Overall fantastic beer, very odd, but still enjoyable., This is the first Rauchbier that I have reviewed. I had it at the Bier Stein in Eugene, OR. -a dark but translucent amber with a small head that remains on the edge, with slight lacing in the middle -aroma: smoked bacon, smoky wood flavor (cherry, beechwood), smoke in general -medium carbonation -crisp lager flavor at the beginning that is then overwhelmed by the smoky flavor, some caramel undertones, feels like you're exhaling a campfire -smoky flavor remains in your mouth indefinitely? My friend could still smell smoke on my breath an hour later on the way home even though I was in the back seat and had a breathmint! -leaves a dry, spinach-like feeling in the mouth The smoke was pretty intense. I enjoyed it okay, but I'll have to try some other Rauchbier to compare..., Pours a rich burnt caramel hue with some deep amber hues... dark for a rauchbier. a surprisingly dark tan head slowly fades and leaves ample lacing. aroma is pungently smokey... sweet malt, sweet smoke, and some salted caramel in the nose. the taste, as expected, is smokey. Not the smokiest or most pungent smoke profile I've experienced, but damn up there. and I think it's the intense rich malt and sweetness from the malt that keeps the smoke slightly tamed. A touch of lemon and citrus fruitiness in the finish which blends perfectly with the cherry smoke. It's not as crisp or dry as other Rachbiers, and it seems a bit more full-bodied, with almost a touch of syrupiness to it. which is kind of an interesting take on it. I'm digging it. I'm not usually one to say this, but it's almost a touch malt-forward. Not that it's a bad thing. I think this is probably my favorite domestically produced Rauchbier I've had the pleasure of tasting. It really hits on all cylinders. A touch sweet and malt forward, but all in all, it does what it's going for and works beautifully. Definitely worth seeking out., On draught at The Beer Stein, Rauch r Bock is chestnut brown with a small off-white head that leaves no lace. Nice glow to it though. Smell is smokey and sweet. Both cherry and beechwood were used, but I'm getting mostly cherry in the nose. Taste is really quite smokey, the beechwood really asserting itself here, although the sweetness of the cherry wood and the malt is no slouch either. The smoke has a sharp phenolic quality that I get from peat, but with the sweetness I think it works well. Note it's not cloying, the sweetness is enjoyable and provides relative balance. Mouthfeel is slick, some softness, a medium bodied, and smooth. Nice. Drinkability is really quite good for such a smoke bomb. No doubt inspired by Aecht Schlenkerla, with the body and color of the marzen, but the punch of the ur bock, it one of the best stateside examples of the style, which is rarely attempted and even more rarely successful. I have to say, this was really good, and with just a touch less phenols, would be up a notch easily., Got this in a 22 ounce bomber. It poured a deep bright brown with a pretty small head. Aromas of smoked kielba, and dark roasted malts. This beer was OK but for a style that I like so much it did'nt really please as much as I thought it would. It had a nice amount of smokiness to it. Really obvious and pretty strong but not charred. But the oily consistency of the beer along with the huge saltiness made the beer less than I was hoping for. It was still a beer that I'm glad I grabbed. They don't make many in the style anyways., When I'm in the mood for something different from my usual assortment of IPA's I usually reach for a smoked beer like a Rauchbier or Porters. Wow this is the mother load of smoked dominance. Nothing subtle about this liquid smoke bomb. Concentrated ash and dried aromatic kindling. Damp Tobacco just adds to the one sided affair. If I had to reach for some balance there is a faint raisin type sweetness buried in the finish. Notes: I'd be interested to see exactly how they brewed this beer. The smoke seems more of an extract additive than natural smoke. A bit much for me. However, a 12oz bottle would have been more appealing for one sitting and it has nothing to do with the moderate ABV. Its a rich SOB., 22oz bottle. Pours clear amber with a tight, half inch head of bone. Thin but webbed lacing and a partial skim coat for the duration. Aromatics lead off with a blast of smoked malts and caramel. Quite meaty and plump with plenty of doughy malt and smoldering wood. Very nice. Medium bodied with a crisp, slightly tacky mouthfeel. A hint of chew adds some substance. Sweet malt and wafting smoke start the palate. A crisp, clean Munich profile is the perfect arena for plenty of Beechwood smoke with hints of bacon and char. Finishes with unrelenting smoke and rich malt. Great beer. Loads of smoke and very authentic., A - Poured out of a bottle into a tulip glass. Lots of bubbles, almost transparent, rust-red color. No head. S - Smoky, smoke smoke. Smells like right after I get the BBQ going but before I throw any meat on the grill. I also get a green olive scent at the beginning. T - Smoke. Burnt wood. Sweet malt at the end. No bitterness at all. I think the smoke mellows out the intense malt sweetness that usually accompanies a bock. M - Very crisp, it is a lager after all. D - A good beer. There are not too many smoked beers made, so for that reason alone I tried it. Well worth it, though it was not my favorite smoked beer., Deep cherry body with a faint beige head the recedes to nothing. No cap, no wisp ring, no lacing. Can't say this looks like anything special. Smokey and spicy summer sausage is all I can smell no matter how I try. It is however a wonderful aroma that I really enjoy. Wow! We have liquid bacon in a glass here! Although initially the cured meat taste is so intense I can't look past it, I was finally able to pick on its other dynamics half way through the bomber. Sweet stone fruits and a touch of orange zest add their nuances to the flavor. Its more complex than I usually find smoked beers to be and I can really enjoy it! Semi-thin in body with fine prickly carbonation is a nice contrast to such a powerful flavor profile. Anything heavier may have been too much. Finishes clean. I found this a little difficult to drink at first due to its uniqueness, but grew accustomed to the pungency. This is a nice sipper if given a chance and I'm really glad I tried it. Recommended., Poured from a 22oz bomber into my Ayinger Celebrator Doppelbock glass. Brilliantly clear rufous body with faint sienna then amber highlights. A faint yellow-ish beige head persists. Light soapy lacing. Melanoidin drenched smoked dark brown sugar laden bready malt aromatics. Simple but absolutely entrancing - takes hold of your reptile brain like bacon. Sweet fruity malty palate entry suffused with delicate layers of smoke. I can't quite tease apart the beechwood and cherry, but the latter adds a bright complexity to the darker tones of the beechwood (which is more standard for this style I believe). Fine smoked ham, pink peppercorn, carmelized winter squash, rye bread, maybe a hint of treacle...at some point the analysis shuts off and the enjoyment takes over. Really well done, the best domestic Rauchbier I've tried thus far. Light-bodied, moderately carbonated, with low astringency. I envy anyone who has access to growlers of this - the drinkability is superior as well as the flavor., I shared this bottle with tenderbranson69, picked up at Al's of Hampden. Poured chilled from the 22oz into a tulip and snifter. a - a beautiful bronze color w/ ruby highlights, mild haziness w/ translucent clarity and thin cream cap which settles to a ring of tiny beads of carbonation S - There is a very intricate aroma of sweet malt combined with woody smokiness. The hardwood aroma is earthy with a slight hint of caramel from the malt and the smoke is very aromatic with a light stone fruit ester in the background M - The feel is rich with med full body and mild dry smoky texture w/ light bitter tinge and moderate carbonation w/ semi-dry finish T - I enjoyed the brief sweet perky malt which has mild nutty aspect and slight bready quality. The smoke flavor is moderately strong w/ a mild woody and dry flavor not unlike sweet smoked jerky. The taste has a nice herbal hop complimenting the malt bread crumb taste and caramel w/ a smoke that lasts into the semi-sweet finish A - a great Rauchbier, one I could enjoy frequently if it weren't such a large bottle, the mid 7% hinders it slightly too, but this was great to share and I loved the complexity of bock malts w/ smoke and smoothness from the lagering. It is a beer I would like to see more brewers attempt, this is a good representative of the style., 22oz brown bomber with no freshness date. Decent sized head with a faint crackle but still a sticky lace, bright amber color. Smells of wood smoke, dry and not bacon-ish with a thick maltiness and peppery alcohol. Big body, slick and smooth. Yeah, the smoke is big but not over the top ... Dry and almost ashy. Malt stands tall with tones of toasted bread, treacle, dried grass. Mild hopping goes a tad herbal in the finish, a little red in the cheeks from the alcohol. Smokiness lingers far into the after taste. So smoky, so tasty ... Love the different woods used on the malt. Alcohol is clean and nearly hidden until halfway through the bottle, a big quaff!!, A: Quite a ruby red hue... deep, rich, almost sporting a soft glow. There's a bit of a sandy colour in the head. Not much for lacing, but the glass seems to be playing a role in that, as it has had a couple different brews in it, all of which laced poorly. S + T: I thoroughly enjoy a good rauch, and this one performs quite well in the traditional 'ham and cheese sandwich' sense. It's not overly smoky, which is a positive thing in that it allows some of the other delicate scents and flavours to shine. Of those, I pick up on a light - but noticeable - fruitiness, both in nose and on the palate that seems a little odd. worth note: after writing the above, I noticed the print on the side of the bottle to see that cherry wood is used in addition to beechwood. That would explain the fruitiness noted. M + D: Body feels a little lighter in the mouthfeel, but seems to pick up a little weight after going down, however little sense that might make. The alcohol content is perhaps a little high, but a little slower sipping never hurt anyone. Not a bad take on the style, though I think I personally would have enjoyed it better if the actual smokiness were a touch more robust., Pours dark amber with a short white fizzy head that fades fast. Aroma is BBQ and smoked pork, some sweet malt and a touch of chocolate. Flavor starts out like a smoked pork sandwhich, nice smooth lagered finish. Smoke and sweet malt stick in the mouth something fierce. A beer that performs as advertised, smoke meat and lager all in one, not really a style I want more than one of but still tasty., This beer pours a very clear and attractive shade of ruby brown. Much less dark than I had anticipated, and carrying a diminutive, but attractive head of parchment foam that leaves very nice lace. The smoky aroma of this beer is very nice. It smells like the smoke that would waft from the smoker at a little restaurant in my home town of Traverse City, Michigan. Porky, sweet and delectable with notes of brown sugar. I suddenly have a huge craving for an \"all meat mess.\" The flavor is also quite nice in that the smoke is not too overpowering. Other flavors include sweet dark malt, brown sugar, a bit of cinnamon and leather. Quite nice and well blended. The body is medium with a mouthfeel that seems a bit sticky, but is pretty good. Surprisingly drinkable, and would be great (of course) with BBQ. Not the first smoked beer I have had, but the first I have reviewed. This one makes me want to seek out more., 22 oz. bomber, A: Pours coppery with a medium head, solid retention, no lace. S: Beautiful sweet smoke smell, mix of bock malt and wood/BBQ. T: Not as intense in the smoke arena as Schlenkerla, that's fine. As with the nose, the baked caramel sweetness adds great flavour dimension, with cherry/wood?, mesquite, and sweet BBQ sauce. Really nice interplay of flavours. M: A tad too light in body for 7.4%, but very smooth, bit creamy. D: This is the best of the Kettle Series I've had. A very well made rauchbier, in the same league as Schlenkerla a cheaper price. Rare style too. Good job Caldera., A nice 'surprise' tap at Bailey's; grabbed a 10 oz. pour ($2.50). A: Deep auburn with the finest haziness; a brief ivory head (less than 1/2 finger) crests then dissolves. What remains is a broken swirl of film and a creamy ring. Decent streaming carbonation. S: Lovely of savory smoke and sugared spiciness...a malty, caramel-laden lager covered gently with grainy husks, burnt yet surprisingly sweet. Strong enough to be smelled from 1-foot away in a crowded room. T: Toffee and spice (notable cinnamon) with a candied fruit after-effect. Oh yeah, a good deal of smoke - a sweet mesquite, reminiscent of barbecued brisket. Herbed and a little tang in the finish. Enough intonations of fruit and a fleeting tartness. M: Velvety feel with a slight prickle (less from carbonation, more from an earthy ground spice). Medium body that borders on heaviness (not unexpected: it IS over 7%). Maltiness coats but isn't cloying; smoke doesn't intrude too much. D: Despite a heavenly aroma and feel and good flavor, this 'only' can muster a 4.0, simply due to a hefty alcohol girth. It's a touch on the sweet side (ur-bock) but the smokiness is well done. Sure it's worth a glass (or two) and is one I'd definitely have again., Caldera- Pale Ale Picked up at Grape &amp; Gourmet (VB) A- Light golden orange with a small fluffy white head. S- Light citrus and pine hops. Slight buttery maltiness. T- Buttery biscuity malt with a nice lemon/ grapefruit citrus and pine hop body. M- Buttery sweet and malty with a nice sweet and bitter hop bite. Overall- Nice malt/ hop balance. Very good sessionable can!, 12 oz. can poured into a pint glass. I really like cans for beers like pale ales that are not meant for cellaring and am glad to have another one available in SoCal. Cool green tab but sadly no canning or best by date. Pours a nice rich gold with a pure white head that grows excessively. Slow pour down a tilted glass and cannot even get the whole can into a pint glass. The retention is good, however, and lacing is great. Lots of bubbles cascading upwards from the bottom of the glass. The aroma is mild and consists of a bit of hoppy earthiness and some candied oranges. The flavor starts with a mild hops bittering and quickly adds a touch of sweetness to balance it out. Earthy and slightly piney with bitter sappy sugar.. The bittering is not high, but there is little aroma hopping evident or much malt complexity either. This is a very light pale ale with little going on beyond some bittering hops, leaving a slightly floral but vegetal finish. An okay beer for a local brewpub, but not quite up to the standard of most pale ales in distribution. Light bodied, creamy, lots of smooth bubbles. A simple beer, but not really in a good way. This needs some more aroma hopping or some other type of complexity. Long floral/vegetal finishing damages drinkability. Unless one is dying to try a new pale ale, I would not recommend this., A: Pours a cloudy orange with a crisp white two finger head layer. S: Slightly citrusy with a bit of hops here, too. T: Malty and hoppy, but neither overpowers. Very well balanced. M: Calm and balanced flavors. D: This would be a great beer for a hot summer day. Nothing wild, but simply a good beer., Received this can through Beer Powerball. I am really sorry that I don't know who sent it, my brother is keeping those records, but THANK YOU!! Pours with a nice half centimeter white fluffy head on a glass of dark straw-colored beer. Smells of citrusy hoppy goodness and oddly, a little like soap. Mouthfeel is very pleasant as is taste. This is a nice drinking beer. It's not blow you away with over-the-top flavor. It's a well-balanced, highly drinkable and enjoyable brew. I'm glad to have gotten the chance to try it., 355ml can bought from Beersofeurope.com... Poured a golden yellow colour with a slight haze... White head poured fairly thick and foamy then faded to decent light covering... light carbonation... good sticky lacing lines cling to the glass... Aroma - Light maltiness mixed with a good dose of citrusy and peppery hops, pine, tart fruits (grapefruit, lemons, apples), very floral, quite grassy, faint honey sweetness, light breadiness, some sea salt... Taste - Good grassy and citrus hop bitterness, light pine, tart fruits (grapefruits, apples), light sweet biscuit malts, peppery, some salty notes, floral and perfumed... Feel - Quite smooth with a little bite underneath... light / medium body. Very, very quaffable and refreshing... Overall - A excellent, straightforward, hoppy APA... recommended..., I received this one in a BIF recently and it was the first thing I grabbed out of the fridge when I got home on Friday. Served cold and poured into a pint glass, this one was consumed on 07/31/2009. Appearance - One of the best pours from a pale ale you could possibly ask for. Seriously. Big head of white foam on top that barely falls back down to earth. Wonderful clear amber color that really just looks the part perfectly. Lots of carbonation creeping up the glass throughout And a really nice coating of spider like webbing. Smell - Aroma is lighter then I would have thought. Nice light grains, a touch of piney hops. As it warms a bit of citrus starts to come though, but again, lighter then I would have thought. Taste - Crisp, clean, the first sip has a biting touch to it as the pine and citrus start to roll through. Nice grains come in mid palate and then it rolls right back into a nice and dry bitter finish. Clean aftertaste leaves you to come back and look for a bit more. Feel - Light, airy and well carbonated. I had no issue at all with going forward with this one. The feel matched the overall experience very nicely. Drinkability - Session able, very nice and clean and easy drinking. Again had really no issue at all with putting this one away. Overall - Solid. Nothing earth shattering here but very solid. I would not mind at all grabbing a six pack and heading to the beach. Really very well done., Orangeish with a peach head. Smell was hoppy. Taste was hoppy, not alot else going on. Not exciting but not boring either. It was easy to swallow but not alot else. Its something I could drink a few of. Good if you want a session beer but don't want a strong flavor., Poured from 12oz can into a clear pint glass. No freshness date. Single purchased at Wine Warehouse (Charlottesville, VA) for $2.15. A: Honey-orange with solid 2-finger ivory head with decent retention and only a crown of lace. S: Plenty of hops in this one with above-average pale malt backbone with leafy and grapefruit aromas dominating. T: The flavor is good but a touch flat for the style, owing mainly to the lack of character in the maltload. The malt component is not quite sweet or roasted enough, which leaves a somewhat bland quality to this aspect. The hops are highly bitter and pretty harsh: a little more floral and citrus character would blend better with the ambiguous malting. Motwithstanding, this is an above-average APA without a doubt. M: Feel is a little thin for the style, although not far off with a medium-light body. Carbonation is a bit too short in supply. The aftertaste is very long with bitter and leafy hops notes persisting. D: A pretty good APA with a big price tag relatively. Solid and highly bitter for the style and could use a little more finesse. Still, enjoyable and didn't last long., I wish the flavor bore out the strength of the aroma, which it does not, but still not a bad beer. Pours a startling straw yellow with a smallish head that falls to nice lacing. The aroma is the strong point - assertively grainy with a crisp hop aroma, mostly grassy with a little flower. I really looked forward to tasting this beer. But it was weaker than I might have hoped, with less of a malt backbone that the aroma suggested and more emphasis on the flowery side of hop character. The bitterness rests, curiously, mostly on the foretaste, with relatively little clinging to the back. The mouthfeel is quite thin, almost insubstantial. This is a decent beer, but nothing to get excited about., I'm really enjoying the variety of quality brews in a CAN i'm finding here in Northern California! this was reviewed while camping at Castle lake campgrounds in shasta city...i think. Ooooh yeah, cracking open a can sounds good!! a thick, solid and rocky -white head stands proud like Mt. shasta itself over a bright plae golden liquid, much like the N.Cali sunsets. Retention is amazing, it's not going anywhere anytime soon. The nose is just bursting with hoppy cascade aroma's!! Sweet fruits, musty herbs, wheat and corn and light but sweet malt. This all cascade beauty has a great aroma. The hoppy flavor's here are deep and very complex, cascade hoppiness all in my face. Light and very, very crispy feel is exciting and spot-on for the style. crisp with a creamy smooth finish from the beastie foam still clumping it's way down slow. The cascade hops provide a gentle fruitiness and perfect dry-herbal and earthy complexity. I havn't been this excited for a Pale ale since my very first Sierra Nevada!!(circa 1996) This pale ale in a can has made my day, and I'm camping in one of the most pristine locations I've ever been too. This is simply one of, if not THE best Pale ale i've ever had. Bring on the cans!!!, 12 oz. can, poured into a tulip. See-thru deep gold body with a finger's worth of creamy off-white head. Pretty good retention and lacing. Fairly strong citrusy hop bouquet with a pleasant mild sweetness and biscuity malt. Smells like it will be a crisp, dry brew. And so it proves to be. There's a bit of honeyish sweetness up front, but it's immediately bullied around by a tag team of citrus (orange zest and grapefruit) and sharp pine needle flavors. There's a bit of earthiness in there, too. The sweetness dries up torward the finish as the citrus is joined by some pine needles for a sharp sting of bitterness and a rather 'scratchy' mouthfeel. After a couple of seconds, the bitterness is chased away by a crisp snap of biscuity malt. Carbonation is lively, and the beer starts off as seemingly medium-bodied, but 'fluffs up' in to something pretty substantial. Overall impression: Excellent APA. Bold and flavorful, yet incredibly drinkable., Pours a deep shade of gold with a fluffy ecru head. The aroma is biscuity, bolstered by grapefruit hops. The brew slides across the tongue, nice and oily. Malt and hops hold together in a nice balance, the hops always penetrating but never dominating. A tad sweeter than I'd like with a mild butter profile. This is a good, but not great, beer., Pours a clear golden color with a slight orange hue. A one inch bright white head sits on top and lingers with decent retention and it leaves a nice collar of lace behind. The aroma is decent. There's a slight hop presence giving a bit of citrus. There's a slight sweetness theres as well as a nice pale malt profile. The taste is ok. There's a slight hop presence giving a bit of citrus. It's well balanced with a big malt presence. Nice overall. Mouthfeel is medium bodied and nicely carbonated. Drinkability is fairly high. It's easily sessionable, and the flavor profile is decent for a pale. No major complaints., A - Poured out a clear, orange color with gold highlights. It had a foamy, fizzy, one-finger layer of white foam that left minimal lacing. S - It had a moderately grassy aroma with notes of orange. It also had a gentle caramel scent. T - It tastes of bitter grassy hops with a snappy, spice flavor. The ale also had a burnt toast maltiness. M - It was sharp and lively on the tongue. A light bodied pale ale. D - This is a pleasant tasting pale ale. It's nice to have a sessionable ale in a can., A 12 oz can from Liquid Solutions. A: The pale ale is appropriately pale, a light golden hue that has more yellow than orange in the mix. The light color has a slight haze to it. A finger of head left dry patches of lace around the mouth of the glass. S: The aroma is mostly malty, sweet with a thick bready presence. Hops are just below the malts with a less assertive citrus body of lemon and grass. T: The hops are far more aggressive in the taste, showing off a grassy taste that quickly goes citrus. The hops are agressive, coming close to turning this into an IPA. The malty breads are well-balanced against the hops, especially later in each sip. The carbonation keeps the hop profile lively. M: The hop profile needs some time to come through. When it does, the hops leave a very nice finish. D: The full hop profile makes the ale taste bigger than it is. Other than that, this is another example of a good pale ale in a can., Poured into pint glass. A - reminiscent of a pilsner more than an APA, 2 fingers of white head, head lasted a while, just kinda floated there S - light hints of citrus, mostly grapefruit and lemon, maybe a little bready T - hop blast, pretty bitter and dry, follows the smell closely M - good carbonation, good body for the style, not too light and certainly not heavy D - great for a canned beer, cant beat the portability and taste, just started to get the caldera brews in my local beer store, will continue to try new ones, Pours a pale straw gold with a frothy light 2 finger head. Decent retention. Good lacing. Nice carbonation. Nose is faint, with pine and light citrus coming through. Slightly yeasty. Very sharp on the tongue. Bitter, but more than hops contributing to this aspect of the flavor. Odd that the bitterness tends to fade before the taste does., Pours a crisp clear pale gold color with a small head that dissipates rather quickly. Has a bitter hoppy pine and citrus smell. Very pungent for a APA. Bitter bite hits right away and fades to a smooth caramel malty biscuity flavor. Not very complex, but good tastes none the less. A very light smooth beer. Very sessionable could def hammer a few of these back., Grabbed a single at State Line A: Clear light orange with a finger-thick off white head. Decent retention and lacing. S: Citrus hops and a biscuity malt and a mild honey like character. Orange and grapefruit contribute to the aroma with a little sharp pine in the back T: Opens up with a chalky orange and citrus hop flavor, with a very light malt sweetness present. Balance is tilted in favor of flavor hops, with a touch of citrus rind bitterness on the finish. M: Light in body, great carbonation and a solid finish D: I will revisit this, especially come camping season, Poured from the can a clear golden hue with two fingers of bright white head. Good lacing all around. Aroma is slightly sour and malty much like a pilsner. A slight whiff of sulfur and vegetables as well. The taste has a bitter edge along with malt and biscuit. Lighter bodied, dry, and moderately carbonated. Pretty drinkable, but this is a fairly decent pale ale that sits in the middle of the pack., Pours a clear gold with some amber hues. Three + fingers of white head slowly dissipates to a finger's width of foamy capping with some good spotty lacing. Smells of honey, toasted grain, floral hops, and a touch of citrus. Tastes of citrus juice up front followed by grainy bread and a honey/caramel sweetness with just a touch of butter. Finishes with some dry grass and spicy hop bitterness. Medium in body with gentle carbonation. A tad bit watery in places, but overall balanced, solid, and smooth with a crisp dry finish. A pleasant pale ale that is easy to drink and quite sessionable. Very flavorful, and pretty IPA-ish for a Pale Ale, I like it!, pours a crystal-clear light golden hue with lemon and straw highlights. A light foamy one-plus-finger has descent retention, fading to leave behind some stellar lacing. aroma if light pale malt and fresh clean hopping. Citrus, pine, hints of lemon, grapefruit, orange, and a smidgen of pineapple. a touch of grassiness and a bit of hard to pinpoint spiciness - yeast? Tastes deliciously hoppy, as a good Oregon pale would be expected to. Citrus leads, followed by a touch of pine and some tropical fruit notes of pineapple and manilla mango. some subtle spicy hops add a bit more depth than the average apa. Just enough light malting to be detectable without coming across malty. smooth and clean with a moderate body for a pale and ample clean carbonation to provide a nice finish. a lingering hop bitterness pairs with just a hint of caramel sweetness on the tongue to keep me happy and wanting more. I've been a long-time caldera fan, and it's become one of my go to APAs - not just from a can. The can is just an added bonus. Unbelievably drinkable, the hops are strong but not overpowering, the malt and sweetness just enough to keep me addicted. Definitely a must-try., Poured from a can into a pint glass. A: Pours clear, golden color with a one-finger off-white head that quickly leaves. S: Aroma is light &amp; simple, floral citrus hops with some caramel malts lingering on the tale end. T: More than expected from the aroma. Lots of citrus flavors, grapefruit, lemon, orange &amp; a bit of toasted malt. Very clean &amp; tasty! Can't wait for another sip! M: Medium-full, kind of oily, moving to a crisp off-dry some what spicy finish. D: Fantastic drinkability! A huge fan of what Caldera is doing with cans. Awesome for camping/hiking, skiing, fishing, or anything where you don't want the weight of a bottle, but the quality of a micro brew. Easy to pack-in &amp; pack-out., Thanks to thirstyhophead, who introduced me to the pleasures of the Caldera IPA, &amp; threw this can into a subsequent trade. I don't dare hope it'll be as good. Lovely brew poured into my Lost Abbey chalice, with a nice shade of yellow, not piss-yellow like Bud, but more amber &amp; deeper. Smells like a pale ale. This is a nice brew. The flavor is present &amp; accounted for without being overwhelming. I think this would be a superb gateway beer for a BMC drinker - there's not so much flavor to cause anyone to drop their Coors Light &amp; run screaming, but it has enough for us dedicated beer freaks to have a sip &amp; go...mmm. That's nice. The lighter flavor, I've noticed, encourages bigger sips, &amp; I'm trying not to gulp this one down too fast. It's a long night. Pace yourself. Did I hear session beer? This would be a great beer to find on tap at the local pub, tasty, easy-drinking, but with a low enough ABV that you're not playing bumper cars in the lot after three of them. That's two very good beers from this mystery brewery. I will stop by if I'm ever in the neighborhood., a: clear golden colored ale capped by a one-finger off white head, average retention s: primarily tropical hops on the nose, pulpy and above the strength typically found in the style, malts contribute little aside from a light grain sweetness, pretty nice m: light-medium carbonation and body t: simple pale malt base provides flavors of honeyed grain, pulpy topical hop flavor with a sharp, clean citrus bite, moderate bitterness, more malt character would be beneficial here d: all said, this is an enjoyable beer though on the pricey side for what it is single from Grape &amp; Gourmet, Virginia Beach, VA, A new beer for the Tidewater Virginia area, Grape and Gourmet had it. 12 0z can. Appearance is pretty average: straw color, fairly clear, small to medium pillowy white head, no lacing, less than average head retention. Smell is fairly average also, some hops. Tastes pretty good. A malty backbone with some hint of floral and piney hops throughout and a definite hops finish. Mouthfeel is crisp and fairly rich for the style. Not a watery BMC. Drinkability is solid. This is a session oriented beer..especially for warm weather. I could do several of these. If we had this one on tap, it would be a real summertime winner., Pours out a pale straw like color with a bubbly 2 finger deep white head. Smells of light flowery Cascade hoppiness, pine, spruce, tropical. Flavor is soft bisquity maltiness, piney hops, faint caramel sweetness, earthy tone, nicely balanced. Crisp, clean, light to medium bodied, lingering bitterness. Highly drinkable. excellent summer session brew. Should be a campsite/cooler standard., 12 oz can into a pint glass. Pours a clear gold with several fingers of foamy cream colored head. 1/4 finger of smooth retention stays strong, leaving some good spotty lacing back. The aroma is very pleasant smelling, being floral and a touch spicy with a steady underpining of citrus and toasted malts. The taste is citric with some buttery bread and a dab of caramel. This tightens into a firmer bitterness towards the back of the swallow. The mouthfeel is medium bodied with an easy and creamy overall feel but I was pleased to find a bit of firmness underneath as well that adds some gravitas to the body. Very solid Pale Ale here with a nice tight profile that is solidly drinkable. I'm digging the portibility of this in cans as well. I'm definitely looking foward to more of these., Can from Beer Run, Charlottesville, VA, enjoyed on site during Super Bowl Sunday. Poured into a traditional American pint glass that came chilled, so I had to give it a chance to warm and wipe it down. Appearance: Pours a surprisingly light and transparent golden yellow - I'm hesitant to say urine, but, you know - with an initially foamy two-finger head that fades into a relatively healthy sheen pretty quickly and leaves lots of scraggly, fluffy, cloud-like lacing streaming upwards towards the rim. The collar if thick and fluffy, though light looking. A solid start. Aroma: Buttery, slightly spicy malt notes, cracker and biscuit-like, with a few light fruity esters - perhaps hoppy in origin, perhaps yeasty in origin, coming across as pineapple in places - mingling with some heavier, definitively hoppy citrus notes, and plenty of grassy, spicy notes. Perfectly pleasant. Taste: Very balanced for a pale ale, almost ESB like. The malt profile here is large and in charge, very graham cracker/biscuit like, perhaps slightly buttery in places. Malt bitterness is mild to perhaps moderate, slightly herbal and grassy, lacking a lot of those good west coast hop notes that I'd like out of, well, a west coast hopped ale. It's almost cinnamony in places, probably a result of the hop notes. Odd but interesting. Mouthfeel: Incredibly smooth and soft, gently carbonated, leading to a very creamy and subtle mouthfeel, a feel which works well with the malt profile on this one. Very very nice. Drinkability: This was a strange and somewhat unexpected brew. Not quite your traditional west coast pale ale, heavy on the bitterness, citrus, and minty hops with a heavily roasted but still sweet malt backbone to back it up; this one is more heavy on lighter, spicier, grassy hop notes and has a surprisingly light and dry malt foundation. Nonetheless, it's still nice, pleasant, and went well with the first six minutes of SuperBowl XLIII!, Pours a pale golden hue with a substantial fluffy head that disipates within a minute or so. smell is quite appetizing sweet spicy malts with floral hopped background. tastes of spiced bread, warming alchole flavor floral hopes, nice and bitter. Very suprised bought this thinking it was going to be mediocor which its not at all. mouthful creamy coats the mouth flavor lingers just right. Drinkablity is good, ABV 5.4%, 12oz can into nonic. Very pale golden hue with a slight haze. A two finger off white head slowly settles to a thin even cap, leaving behind a solid wall of lacing. Bready malt tones in the background. The hops provide light citrusy aroma with a light spiciness. Slightly sweet biscuity grain flavor sets up a base for a light hop bitterness. A little diacetyl is in there as well. The hops have a light herbal flavor to them. Full bodied. Seemed a bit pricey ($12 per 6'er) for what I got. It's a good Pale Ale, and rather sessionable, but for a dollar more I could get Bell's Hopslam or Troeg's Nugget Nectar. Not that those beers are necessarily and better or more desirable, but you get a hyped high gravity beer for a dollar more that an ordinary Pale Ale? Anyway, it's an enjoyable beer. Recommended., A: Quite a pale yellowish amber... not pale like something like Rolling Rock, but it's a lighter one, and suitable to the name. A mediocre little white head forms on top leaving little fanfare - some sticking here and there, kinda patchy. S: Tropical fruit comes to mind right away... pineapple, in particular - some peach and pear. Surprisingly fruity, but not in an alarmingly sweet sort of way. There's a leafiness to the hops, as well. Kinda like if a canned Dole snack was hopped. T: Herbal and slightly citrusy hops. The pineapple-like flavour is there as it is in the aroma. I wasn't sure what to expect from this brew, but it's quite tasty. M + D: Kind of lacking in body and carbonation - not flat, but almost \"muddy.\" Something is missing here, though I can't place a finger on what. All in all, it's quite a tasty brew, but the price is very high in these parts (Virginia). They offer reasons as to why they cost more on the webpage, but I have trouble with the reasoning for it. That alone would be the deal-breaker for buying more, unfortunately. If cost of a product is not an issue, by all means, get some - it is good beer!, 12oz can. Poured a light to medium and slightly hazy golden color with a smaller sized off white head. Aromas of grass, wet hay, citrus and a little fruity. Tastes of citrus, grain, and fruits. Starts with a light honey sweetness and ends in a light grapefruit bitter finish. Body on the thin and weak side. Some lacing left on the glass. Notes from: 12/22/05, 12oz can courtesy of Reino poured into a pint glass. Pours a clear light golden with a decent creamy white head that hung on as a cap for a while leaving good lacing. The aroma is very light with lots of lemony hops up front and a bit of bready malts as well. The flavor had the light citrus up front with the malts in the middle before giving way to some faint pine hop bitterness in the finish. The mouthfeel is highly carbonated and lighter than most pale ales. This is a very drinkable pale that doesn't have too much differentiation but is still tasty., Thanks to flexabull for sending this for the Survival Football LIF. Poured from can into McChouffe tulip, appears clear light golden yellow. About 2\" of thick white fluffy head, settles slowly leaving a rocky top with some thick clumpy lacing. Smell is pretty simple pale ale, a little citrus, subtle earthiness. Taste is lots of sour citrus, a little pine, backed up with just enough malt. Mouthfeel is medium up front, but the finish becomes more oily and resinous, leaving the mouth coated with some lingering sour bitterness. Drinkability is super high, would be easy to down a few of these in a night., Poured from a 12oz can into a 20oz imperial pint. A: Pours a crystal-clear, bright golden color with some lazy trails of carbonation. Capping this was a pillowy, off-white 1 finger head that quickly dissolved to a splotchy skim that left a fair amount of lace. S: Aromas of spicy pine, mild citrus, and sweet caramel. Pretty simple and very clean. T: See above. Add in a little toasty malt and a bit more citrus (than what's in the aroma). Again, pretty simple and very clean. M: Full and pretty oily with a turn towards some dry and spicy astringency during the middle that continues on through the finish. Also finishes pretty peppery. D: Fantastic drinkability! In this age of extreme everything it's sometimes refreshing to get a hold of something so simple and satisfying., I wanted to like this beer. I really did. I love the town it comes from - Ashland, Oregon - and I thought to myself that a place like Ashland must have the creative spirit to produce something unique. Well, this beer was unique, alright. I can't recall ever drinking another beer with a hop flavor like boiled vegetables. Blech! Appearance was average, and head retention was so-so. I noticed no lacing whatsoever. Smell did not reveal what the taste had in store. On first sip, I noticed nothing immediately untoward, but as the hop flavor built so did the unwelcome overcooked-vegetable flavor. I tried another can the next day thinking that maybe I just had a bad one, but with the same result. I'm afraid I won't be trying this one again, and wouldn't recommend it to anybody else. You could do worse, but to me this beer would be a last resort before having to accept a macrobrew., I bought a six-pack of Caldera Pale Ale at a grocery store. Poured in to a pint glass. Pours a rich gold color and is ever so slightly hazy. Creamy white head caps the beer and is quite resilient. The head dissipates in ridges and valleys, finally getting down to small islands of foam on the surface of the brew.. Smell is fairly faint. Some hoppy fruity esters perhaps, but generally unremarkable. Taste is a bitter flavor, like sour citrus. A little malt flavor sneaks in too. Strong flavors for a pale, almost approaching what one would expect from an IPA. Mouthfeel is light, crisp and clean, but dry. Not watery, but light on the tongue. A drinkable pale ale, but I think the sour citrus flavor is a bit over done for the style. I'd have this again though. The packaging (cans) are great for camping, tailgates and the like, but it's a bit overpriced in my area at $8 a sixer., Yum! I really love these canned craft brews. It's really a great way to package beer. It's fresher, doesnt get oxidized or uv-damaged, cools faster, and is so much easier for camping, events, etc. Golden color and slightly chill hazed. Decent head, but it falls away kinda quick. Aroma is a bit disapointing. It's really kind of mild. Some floral and herbal sweet hops, then some dry caramel malt. Really makes up for it in the taste! Rich grapefruit and sour lemon. The bitter citrus flavors of orange and some tropical fruits in there too. A tad of toasty honey sweetness to counteract it. So drinkable, and so tasty. I was down in Ashland the other month, but these guys only do dock sales. Ill be stopping by next time for a case., A- Nice golden color. Looks what a pale ale should. There is very little head, which resembles that of something that is going to have a lot of hops. We will see... S- Why yes I can smell those wonderful whole flower cascade hops. T- There is a nice maltyness with this beer. Not so much of a hop taste, but it is there. M- Feels a bit slimy, or at least makes my mouth become slimy. D- I can drink it with the greatest of ease., Appearance: Golden amber with the slightest haze and a nice sticky two finger head. Smell: Lots of signature cascade aroma - citrusy with a touch of pine. Taste &amp; mouthfeel: Juicy citrus hop flavors supported by a dry biscuity malt backbone. Medium-light in body, crisp, dry. Moderate bitterness in the finish, though it doesn't linger too long. Very clean stuff, and incredibly drinkable. This reminds me quite a bit of Sierra Nevada Pale Ale, but more raw and flavorful., ...]</td>\n",
              "      <td>528372</td>\n",
              "      <td>NA</td>\n",
              "    </tr>\n",
              "    <tr>\n",
              "      <th>review_time</th>\n",
              "      <td>int64</td>\n",
              "      <td>0</td>\n",
              "      <td>[1234817823, 1235915097, 1235916604, 1234725145, 1293735206, 1325524659, 1318991115, 1306276018, 1290454503, 1285632924, 1283154365, 1277557990, 1275779250, 1273109020, 1316025612, 1103502339, 1062311123, 1325478004, 1325360812, 1322506304, 1320494397, 1320140421, 1319847514, 1318802642, 1318290101, 1318289482, 1316405909, 1315696563, 1315014054, 1314752229, 1312403394, 1312162337, 1312070406, 1311558510, 1309310508, 1307850875, 1306128988, 1305926255, 1305856857, 1305469906, 1305329412, 1302401846, 1301454480, 1301023832, 1300936020, 1300237348, 1297290394, 1291959798, 1291254447, 1286839186, 1286679032, 1285545349, 1284135689, 1283136243, 1281495119, 1281303716, 1277846123, 1275779614, 1273021280, 1251327677, 1250928902, 1249866208, 1249847121, 1249556277, 1249347819, 1248223105, 1248142715, 1247611689, 1246913078, 1246835039, 1245632401, 1245007399, 1243386855, 1243111472, 1242695740, 1242591041, 1240194272, 1239404031, 1238806680, 1238102425, 1237995185, 1235940573, 1235869779, 1235799776, 1234402493, 1234301164, 1234289072, 1233532055, 1233527792, 1233438861, 1232762866, 1231859071, 1231644832, 1228286719, 1227368772, 1222211380, 1220215328, 1219023488, 1218509484, 1217377327, ...]</td>\n",
              "      <td>527927</td>\n",
              "      <td>NA</td>\n",
              "    </tr>\n",
              "  </tbody>\n",
              "</table>"
            ],
            "text/plain": [
              "<IPython.core.display.HTML object>"
            ]
          },
          "metadata": {}
        }
      ]
    },
    {
      "cell_type": "markdown",
      "source": [
        "#### Visualisation:"
      ],
      "metadata": {
        "id": "5cYdk8UkquP0"
      }
    },
    {
      "cell_type": "code",
      "source": [
        "#checking correlations between the relevant attributes\n",
        "sns.heatmap(df[df.columns[2:-2]].corr(),annot=True,cmap='Blues_r')\n",
        "plt.title(\"Correlation HeatMap\")\n",
        "plt.savefig(\"./heatmap\")"
      ],
      "metadata": {
        "colab": {
          "base_uri": "https://localhost:8080/",
          "height": 368
        },
        "id": "oHdefR12qxCB",
        "outputId": "23d1298b-1214-4852-da05-4161660c50b4"
      },
      "execution_count": 6,
      "outputs": [
        {
          "output_type": "display_data",
          "data": {
            "image/png": "[encoded data removed]",
            "text/plain": [
              "<Figure size 432x288 with 2 Axes>"
            ]
          },
          "metadata": {
            "needs_background": "light"
          }
        }
      ]
    },
    {
      "cell_type": "code",
      "source": [
        "fig,axes=plt.subplots(figsize=(8,8))\n",
        "df_vis=df[(df.review_overall>=4)&(df.review_taste>=4)&(df.review_aroma>=4)&(df.review_palette>=4)&(df.review_appearance>=4)].sort_values(by='review_overall',ascending=False)[:20]\n",
        "sns.barplot(data=df_vis,x=\"beer_name\",y=\"review_overall\",ax=axes)\n",
        "plt.xticks(rotation=\"45\")\n",
        "plt.title(\"Review Overall Toppers\")\n",
        "plt.savefig(\"./review_overall\")"
      ],
      "metadata": {
        "colab": {
          "base_uri": "https://localhost:8080/",
          "height": 617
        },
        "id": "a5tQNjtQrWdq",
        "outputId": "c87442f6-518c-4339-f7cf-e45717b148ae"
      },
      "execution_count": 7,
      "outputs": [
        {
          "output_type": "display_data",
          "data": {
            "image/png": "[encoded data removed]",
            "text/plain": [
              "<Figure size 576x576 with 1 Axes>"
            ]
          },
          "metadata": {
            "needs_background": "light"
          }
        }
      ]
    },
    {
      "cell_type": "code",
      "source": [
        "fig,axes=plt.subplots(figsize=(8,8))\n",
        "sns.barplot(data=df_vis,x=\"beer_name\",y=\"review_aroma\",ax=axes)\n",
        "plt.xticks(rotation=\"90\")\n",
        "plt.title(\"Review Aroma ratings of the Review overall toppers\")\n",
        "plt.savefig(\"./Review_Aroma\")"
      ],
      "metadata": {
        "colab": {
          "base_uri": "https://localhost:8080/",
          "height": 654
        },
        "id": "_vbK_fHmsiHa",
        "outputId": "cb5f008c-e8c1-4638-a6cc-2d82b78cd290"
      },
      "execution_count": 8,
      "outputs": [
        {
          "output_type": "display_data",
          "data": {
            "image/png": "[encoded data removed]",
            "text/plain": [
              "<Figure size 576x576 with 1 Axes>"
            ]
          },
          "metadata": {
            "needs_background": "light"
          }
        }
      ]
    },
    {
      "cell_type": "code",
      "source": [
        "fig,axes=plt.subplots(figsize=(8,8))\n",
        "sns.barplot(data=df_vis,x=\"beer_name\",y=\"review_taste\",ax=axes)\n",
        "plt.xticks(rotation=\"90\")\n",
        "plt.title(\"Review Taste ratings of the Review overall toppers\")\n",
        "plt.savefig(\"./Review_Taste\")"
      ],
      "metadata": {
        "colab": {
          "base_uri": "https://localhost:8080/",
          "height": 654
        },
        "id": "-fp_ThbIuOcl",
        "outputId": "a7f2aea4-36f2-47c9-bbb4-eba29e7cfa53"
      },
      "execution_count": 9,
      "outputs": [
        {
          "output_type": "display_data",
          "data": {
            "image/png": "[encoded data removed]",
            "text/plain": [
              "<Figure size 576x576 with 1 Axes>"
            ]
          },
          "metadata": {
            "needs_background": "light"
          }
        }
      ]
    },
    {
      "cell_type": "code",
      "source": [
        "df_brewer=df.groupby(by=\"beer_brewerId\")['beer_ABV'].mean().sort_values(ascending=False)[:20]\n",
        "fig,axes=plt.subplots(figsize=(12,8))\n",
        "sns.barplot(x=df_brewer.index,y=df_brewer,ax=axes)\n",
        "plt.title(\"Strongest Beer Making Brewery Ids\")\n",
        "plt.savefig(\"./StrongBeer\")"
      ],
      "metadata": {
        "colab": {
          "base_uri": "https://localhost:8080/",
          "height": 514
        },
        "id": "uQwn5rSRuXdt",
        "outputId": "ac940088-5b68-4ec6-d3d8-b357dacfd147"
      },
      "execution_count": 10,
      "outputs": [
        {
          "output_type": "display_data",
          "data": {
            "image/png": "[encoded data removed]",
            "text/plain": [
              "<Figure size 864x576 with 1 Axes>"
            ]
          },
          "metadata": {
            "needs_background": "light"
          }
        }
      ]
    },
    {
      "cell_type": "code",
      "source": [
        "import datetime\n",
        "for i in df_vis['review_time']:\n",
        " print( datetime.datetime.fromtimestamp(i).isoformat())"
      ],
      "metadata": {
        "colab": {
          "base_uri": "https://localhost:8080/"
        },
        "id": "_f6-39RM3esC",
        "outputId": "4ff15969-f8b6-43dd-fd7f-7a66ba19521c"
      },
      "execution_count": 11,
      "outputs": [
        {
          "output_type": "stream",
          "name": "stdout",
          "text": [
            "2008-02-05T00:16:49\n",
            "2008-01-22T03:17:29\n",
            "2006-02-09T15:55:21\n",
            "2010-12-26T08:46:23\n",
            "2008-01-03T21:23:02\n",
            "2010-12-18T03:17:26\n",
            "2008-01-08T20:50:20\n",
            "2008-01-09T01:32:41\n",
            "2008-01-10T16:48:48\n",
            "2008-01-10T17:16:59\n",
            "2006-02-12T01:28:18\n",
            "2006-02-12T02:32:22\n",
            "2006-02-14T02:25:54\n",
            "2006-02-16T02:04:17\n",
            "2005-01-22T19:37:31\n",
            "2005-01-21T01:03:39\n",
            "2008-01-22T13:54:37\n",
            "2006-02-20T23:41:52\n",
            "2010-11-14T22:41:26\n",
            "2010-11-13T17:26:41\n"
          ]
        }
      ]
    },
    {
      "cell_type": "markdown",
      "source": [
        "### Textual EDA"
      ],
      "metadata": {
        "id": "7b9IokhS3sSI"
      }
    },
    {
      "cell_type": "code",
      "source": [
        "from plotly import graph_objs as go\n",
        "import plotly.express as px\n",
        "import plotly.figure_factory as ff\n",
        "from collections import Counter\n",
        "\n",
        "from PIL import Image\n",
        "from wordcloud import WordCloud, STOPWORDS, ImageColorGenerator\n",
        "\n",
        "\n",
        "import nltk\n",
        "from nltk.corpus import stopwords\n",
        "\n",
        "from tqdm import tqdm\n",
        "import os\n",
        "import nltk\n",
        "import spacy\n",
        "import random\n",
        "from spacy.util import compounding\n",
        "from spacy.util import minibatch"
      ],
      "metadata": {
        "id": "tXX89YWr3whc"
      },
      "execution_count": 26,
      "outputs": []
    },
    {
      "cell_type": "code",
      "source": [
        "temp = df.dropna().groupby('review_overall').count()['review_text'].reset_index().sort_values(by='review_text',ascending=False)\n",
        "temp.style.background_gradient(cmap='Purples')\n",
        "fig = go.Figure(go.Funnelarea(\n",
        "    text =temp.review_overall,\n",
        "    values = temp.review_text,\n",
        "    title = {\"position\": \"top center\", \"text\": \"Funnel-Chart of Rating Distribution\"}\n",
        "    ))\n",
        "fig.show()\n",
        "plt.savefig(\"Funnel\")"
      ],
      "metadata": {
        "colab": {
          "base_uri": "https://localhost:8080/",
          "height": 559
        },
        "id": "EKmavuZF36Ni",
        "outputId": "9afce06b-b5b6-4808-a0b5-f44387235ad8"
      },
      "execution_count": 27,
      "outputs": [
        {
          "output_type": "display_data",
          "data": {
            "text/html": [
              "<html>\n",
              "<head><meta charset=\"utf-8\" /></head>\n",
              "<body>\n",
              "    <div>\n",
              "            <script src=\"https://cdnjs.cloudflare.com/ajax/libs/mathjax/2.7.5/MathJax.js?config=TeX-AMS-MML_SVG\"></script><script type=\"text/javascript\">if (window.MathJax) {MathJax.Hub.Config({SVG: {font: \"STIX-Web\"}});}</script>\n",
              "                <script type=\"text/javascript\">window.PlotlyConfig = {MathJaxConfig: 'local'};</script>\n",
              "        <script src=\"https://cdn.plot.ly/plotly-latest.min.js\"></script>    \n",
              "            <div id=\"962f0b4e-d8ad-49cd-aa07-6d040dab8816\" class=\"plotly-graph-div\" style=\"height:525px; width:100%;\"></div>\n",
              "            <script type=\"text/javascript\">\n",
              "                \n",
              "                    window.PLOTLYENV=window.PLOTLYENV || {};\n",
              "                    \n",
              "                if (document.getElementById(\"962f0b4e-d8ad-49cd-aa07-6d040dab8816\")) {\n",
              "                    Plotly.newPlot(\n",
              "                        '962f0b4e-d8ad-49cd-aa07-6d040dab8816',\n",
              "                        [{\"text\": [4.0, 4.5, 3.5, 3.0, 5.0, 2.5, 2.0, 1.5, 1.0, 0.0], \"title\": {\"position\": \"top center\", \"text\": \"Funnel-Chart of Rating Distribution\"}, \"type\": \"funnelarea\", \"values\": [189623, 107758, 94478, 50831, 30279, 17421, 11168, 3709, 3088, 3]}],\n",
              "                        {\"template\": {\"data\": {\"bar\": [{\"error_x\": {\"color\": \"#2a3f5f\"}, \"error_y\": {\"color\": \"#2a3f5f\"}, \"marker\": {\"line\": {\"color\": \"#E5ECF6\", \"width\": 0.5}}, \"type\": \"bar\"}], \"barpolar\": [{\"marker\": {\"line\": {\"color\": \"#E5ECF6\", \"width\": 0.5}}, \"type\": \"barpolar\"}], \"carpet\": [{\"aaxis\": {\"endlinecolor\": \"#2a3f5f\", \"gridcolor\": \"white\", \"linecolor\": \"white\", \"minorgridcolor\": \"white\", \"startlinecolor\": \"#2a3f5f\"}, \"baxis\": {\"endlinecolor\": \"#2a3f5f\", \"gridcolor\": \"white\", \"linecolor\": \"white\", \"minorgridcolor\": \"white\", \"startlinecolor\": \"#2a3f5f\"}, \"type\": \"carpet\"}], \"choropleth\": [{\"colorbar\": {\"outlinewidth\": 0, \"ticks\": \"\"}, \"type\": \"choropleth\"}], \"contour\": [{\"colorbar\": {\"outlinewidth\": 0, \"ticks\": \"\"}, \"colorscale\": [[0.0, \"#0d0887\"], [0.1111111111111111, \"#46039f\"], [0.2222222222222222, \"#7201a8\"], [0.3333333333333333, \"#9c179e\"], [0.4444444444444444, \"#bd3786\"], [0.5555555555555556, \"#d8576b\"], [0.6666666666666666, \"#ed7953\"], [0.7777777777777778, \"#fb9f3a\"], [0.8888888888888888, \"#fdca26\"], [1.0, \"#f0f921\"]], \"type\": \"contour\"}], \"contourcarpet\": [{\"colorbar\": {\"outlinewidth\": 0, \"ticks\": \"\"}, \"type\": \"contourcarpet\"}], \"heatmap\": [{\"colorbar\": {\"outlinewidth\": 0, \"ticks\": \"\"}, \"colorscale\": [[0.0, \"#0d0887\"], [0.1111111111111111, \"#46039f\"], [0.2222222222222222, \"#7201a8\"], [0.3333333333333333, \"#9c179e\"], [0.4444444444444444, \"#bd3786\"], [0.5555555555555556, \"#d8576b\"], [0.6666666666666666, \"#ed7953\"], [0.7777777777777778, \"#fb9f3a\"], [0.8888888888888888, \"#fdca26\"], [1.0, \"#f0f921\"]], \"type\": \"heatmap\"}], \"heatmapgl\": [{\"colorbar\": {\"outlinewidth\": 0, \"ticks\": \"\"}, \"colorscale\": [[0.0, \"#0d0887\"], [0.1111111111111111, \"#46039f\"], [0.2222222222222222, \"#7201a8\"], [0.3333333333333333, \"#9c179e\"], [0.4444444444444444, \"#bd3786\"], [0.5555555555555556, \"#d8576b\"], [0.6666666666666666, \"#ed7953\"], [0.7777777777777778, \"#fb9f3a\"], [0.8888888888888888, \"#fdca26\"], [1.0, \"#f0f921\"]], \"type\": \"heatmapgl\"}], \"histogram\": [{\"marker\": {\"colorbar\": {\"outlinewidth\": 0, \"ticks\": \"\"}}, \"type\": \"histogram\"}], \"histogram2d\": [{\"colorbar\": {\"outlinewidth\": 0, \"ticks\": \"\"}, \"colorscale\": [[0.0, \"#0d0887\"], [0.1111111111111111, \"#46039f\"], [0.2222222222222222, \"#7201a8\"], [0.3333333333333333, \"#9c179e\"], [0.4444444444444444, \"#bd3786\"], [0.5555555555555556, \"#d8576b\"], [0.6666666666666666, \"#ed7953\"], [0.7777777777777778, \"#fb9f3a\"], [0.8888888888888888, \"#fdca26\"], [1.0, \"#f0f921\"]], \"type\": \"histogram2d\"}], \"histogram2dcontour\": [{\"colorbar\": {\"outlinewidth\": 0, \"ticks\": \"\"}, \"colorscale\": [[0.0, \"#0d0887\"], [0.1111111111111111, \"#46039f\"], [0.2222222222222222, \"#7201a8\"], [0.3333333333333333, \"#9c179e\"], [0.4444444444444444, \"#bd3786\"], [0.5555555555555556, \"#d8576b\"], [0.6666666666666666, \"#ed7953\"], [0.7777777777777778, \"#fb9f3a\"], [0.8888888888888888, \"#fdca26\"], [1.0, \"#f0f921\"]], \"type\": \"histogram2dcontour\"}], \"mesh3d\": [{\"colorbar\": {\"outlinewidth\": 0, \"ticks\": \"\"}, \"type\": \"mesh3d\"}], \"parcoords\": [{\"line\": {\"colorbar\": {\"outlinewidth\": 0, \"ticks\": \"\"}}, \"type\": \"parcoords\"}], \"pie\": [{\"automargin\": true, \"type\": \"pie\"}], \"scatter\": [{\"marker\": {\"colorbar\": {\"outlinewidth\": 0, \"ticks\": \"\"}}, \"type\": \"scatter\"}], \"scatter3d\": [{\"line\": {\"colorbar\": {\"outlinewidth\": 0, \"ticks\": \"\"}}, \"marker\": {\"colorbar\": {\"outlinewidth\": 0, \"ticks\": \"\"}}, \"type\": \"scatter3d\"}], \"scattercarpet\": [{\"marker\": {\"colorbar\": {\"outlinewidth\": 0, \"ticks\": \"\"}}, \"type\": \"scattercarpet\"}], \"scattergeo\": [{\"marker\": {\"colorbar\": {\"outlinewidth\": 0, \"ticks\": \"\"}}, \"type\": \"scattergeo\"}], \"scattergl\": [{\"marker\": {\"colorbar\": {\"outlinewidth\": 0, \"ticks\": \"\"}}, \"type\": \"scattergl\"}], \"scattermapbox\": [{\"marker\": {\"colorbar\": {\"outlinewidth\": 0, \"ticks\": \"\"}}, \"type\": \"scattermapbox\"}], \"scatterpolar\": [{\"marker\": {\"colorbar\": {\"outlinewidth\": 0, \"ticks\": \"\"}}, \"type\": \"scatterpolar\"}], \"scatterpolargl\": [{\"marker\": {\"colorbar\": {\"outlinewidth\": 0, \"ticks\": \"\"}}, \"type\": \"scatterpolargl\"}], \"scatterternary\": [{\"marker\": {\"colorbar\": {\"outlinewidth\": 0, \"ticks\": \"\"}}, \"type\": \"scatterternary\"}], \"surface\": [{\"colorbar\": {\"outlinewidth\": 0, \"ticks\": \"\"}, \"colorscale\": [[0.0, \"#0d0887\"], [0.1111111111111111, \"#46039f\"], [0.2222222222222222, \"#7201a8\"], [0.3333333333333333, \"#9c179e\"], [0.4444444444444444, \"#bd3786\"], [0.5555555555555556, \"#d8576b\"], [0.6666666666666666, \"#ed7953\"], [0.7777777777777778, \"#fb9f3a\"], [0.8888888888888888, \"#fdca26\"], [1.0, \"#f0f921\"]], \"type\": \"surface\"}], \"table\": [{\"cells\": {\"fill\": {\"color\": \"#EBF0F8\"}, \"line\": {\"color\": \"white\"}}, \"header\": {\"fill\": {\"color\": \"#C8D4E3\"}, \"line\": {\"color\": \"white\"}}, \"type\": \"table\"}]}, \"layout\": {\"annotationdefaults\": {\"arrowcolor\": \"#2a3f5f\", \"arrowhead\": 0, \"arrowwidth\": 1}, \"coloraxis\": {\"colorbar\": {\"outlinewidth\": 0, \"ticks\": \"\"}}, \"colorscale\": {\"diverging\": [[0, \"#8e0152\"], [0.1, \"#c51b7d\"], [0.2, \"#de77ae\"], [0.3, \"#f1b6da\"], [0.4, \"#fde0ef\"], [0.5, \"#f7f7f7\"], [0.6, \"#e6f5d0\"], [0.7, \"#b8e186\"], [0.8, \"#7fbc41\"], [0.9, \"#4d9221\"], [1, \"#276419\"]], \"sequential\": [[0.0, \"#0d0887\"], [0.1111111111111111, \"#46039f\"], [0.2222222222222222, \"#7201a8\"], [0.3333333333333333, \"#9c179e\"], [0.4444444444444444, \"#bd3786\"], [0.5555555555555556, \"#d8576b\"], [0.6666666666666666, \"#ed7953\"], [0.7777777777777778, \"#fb9f3a\"], [0.8888888888888888, \"#fdca26\"], [1.0, \"#f0f921\"]], \"sequentialminus\": [[0.0, \"#0d0887\"], [0.1111111111111111, \"#46039f\"], [0.2222222222222222, \"#7201a8\"], [0.3333333333333333, \"#9c179e\"], [0.4444444444444444, \"#bd3786\"], [0.5555555555555556, \"#d8576b\"], [0.6666666666666666, \"#ed7953\"], [0.7777777777777778, \"#fb9f3a\"], [0.8888888888888888, \"#fdca26\"], [1.0, \"#f0f921\"]]}, \"colorway\": [\"#636efa\", \"#EF553B\", \"#00cc96\", \"#ab63fa\", \"#FFA15A\", \"#19d3f3\", \"#FF6692\", \"#B6E880\", \"#FF97FF\", \"#FECB52\"], \"font\": {\"color\": \"#2a3f5f\"}, \"geo\": {\"bgcolor\": \"white\", \"lakecolor\": \"white\", \"landcolor\": \"#E5ECF6\", \"showlakes\": true, \"showland\": true, \"subunitcolor\": \"white\"}, \"hoverlabel\": {\"align\": \"left\"}, \"hovermode\": \"closest\", \"mapbox\": {\"style\": \"light\"}, \"paper_bgcolor\": \"white\", \"plot_bgcolor\": \"#E5ECF6\", \"polar\": {\"angularaxis\": {\"gridcolor\": \"white\", \"linecolor\": \"white\", \"ticks\": \"\"}, \"bgcolor\": \"#E5ECF6\", \"radialaxis\": {\"gridcolor\": \"white\", \"linecolor\": \"white\", \"ticks\": \"\"}}, \"scene\": {\"xaxis\": {\"backgroundcolor\": \"#E5ECF6\", \"gridcolor\": \"white\", \"gridwidth\": 2, \"linecolor\": \"white\", \"showbackground\": true, \"ticks\": \"\", \"zerolinecolor\": \"white\"}, \"yaxis\": {\"backgroundcolor\": \"#E5ECF6\", \"gridcolor\": \"white\", \"gridwidth\": 2, \"linecolor\": \"white\", \"showbackground\": true, \"ticks\": \"\", \"zerolinecolor\": \"white\"}, \"zaxis\": {\"backgroundcolor\": \"#E5ECF6\", \"gridcolor\": \"white\", \"gridwidth\": 2, \"linecolor\": \"white\", \"showbackground\": true, \"ticks\": \"\", \"zerolinecolor\": \"white\"}}, \"shapedefaults\": {\"line\": {\"color\": \"#2a3f5f\"}}, \"ternary\": {\"aaxis\": {\"gridcolor\": \"white\", \"linecolor\": \"white\", \"ticks\": \"\"}, \"baxis\": {\"gridcolor\": \"white\", \"linecolor\": \"white\", \"ticks\": \"\"}, \"bgcolor\": \"#E5ECF6\", \"caxis\": {\"gridcolor\": \"white\", \"linecolor\": \"white\", \"ticks\": \"\"}}, \"title\": {\"x\": 0.05}, \"xaxis\": {\"automargin\": true, \"gridcolor\": \"white\", \"linecolor\": \"white\", \"ticks\": \"\", \"title\": {\"standoff\": 15}, \"zerolinecolor\": \"white\", \"zerolinewidth\": 2}, \"yaxis\": {\"automargin\": true, \"gridcolor\": \"white\", \"linecolor\": \"white\", \"ticks\": \"\", \"title\": {\"standoff\": 15}, \"zerolinecolor\": \"white\", \"zerolinewidth\": 2}}}},\n",
              "                        {\"responsive\": true}\n",
              "                    ).then(function(){\n",
              "                            \n",
              "var gd = document.getElementById('962f0b4e-d8ad-49cd-aa07-6d040dab8816');\n",
              "var x = new MutationObserver(function (mutations, observer) {{\n",
              "        var display = window.getComputedStyle(gd).display;\n",
              "        if (!display || display === 'none') {{\n",
              "            console.log([gd, 'removed!']);\n",
              "            Plotly.purge(gd);\n",
              "            observer.disconnect();\n",
              "        }}\n",
              "}});\n",
              "\n",
              "// Listen for the removal of the full notebook cells\n",
              "var notebookContainer = gd.closest('#notebook-container');\n",
              "if (notebookContainer) {{\n",
              "    x.observe(notebookContainer, {childList: true});\n",
              "}}\n",
              "\n",
              "// Listen for the clearing of the current output cell\n",
              "var outputEl = gd.closest('.output');\n",
              "if (outputEl) {{\n",
              "    x.observe(outputEl, {childList: true});\n",
              "}}\n",
              "\n",
              "                        })\n",
              "                };\n",
              "                \n",
              "            </script>\n",
              "        </div>\n",
              "</body>\n",
              "</html>"
            ]
          },
          "metadata": {}
        },
        {
          "output_type": "display_data",
          "data": {
            "text/plain": [
              "<Figure size 432x288 with 0 Axes>"
            ]
          },
          "metadata": {}
        }
      ]
    },
    {
      "cell_type": "markdown",
      "source": [
        "### Review Classification"
      ],
      "metadata": {
        "id": "lrPpXzdMj45q"
      }
    },
    {
      "cell_type": "code",
      "source": [
        "text=df.dropna()\n",
        "text"
      ],
      "metadata": {
        "colab": {
          "base_uri": "https://localhost:8080/",
          "height": 1000
        },
        "id": "eYMDODo-j30n",
        "outputId": "e4ee4f05-ebf8-4abe-b5fc-b92866a5bd1f"
      },
      "execution_count": 48,
      "outputs": [
        {
          "output_type": "execute_result",
          "data": {
            "text/html": [
              "\n",
              "  <div id=\"df-43485fa5-b732-4114-b2a6-dff71a01b5e8\">\n",
              "    <div class=\"colab-df-container\">\n",
              "      <div>\n",
              "<style scoped>\n",
              "    .dataframe tbody tr th:only-of-type {\n",
              "        vertical-align: middle;\n",
              "    }\n",
              "\n",
              "    .dataframe tbody tr th {\n",
              "        vertical-align: top;\n",
              "    }\n",
              "\n",
              "    .dataframe thead th {\n",
              "        text-align: right;\n",
              "    }\n",
              "</style>\n",
              "<table border=\"1\" class=\"dataframe\">\n",
              "  <thead>\n",
              "    <tr style=\"text-align: right;\">\n",
              "      <th></th>\n",
              "      <th>beer_ABV</th>\n",
              "      <th>beer_beerId</th>\n",
              "      <th>beer_brewerId</th>\n",
              "      <th>beer_name</th>\n",
              "      <th>beer_style</th>\n",
              "      <th>review_appearance</th>\n",
              "      <th>review_palette</th>\n",
              "      <th>review_overall</th>\n",
              "      <th>review_taste</th>\n",
              "      <th>review_profileName</th>\n",
              "      <th>review_aroma</th>\n",
              "      <th>review_text</th>\n",
              "      <th>review_time</th>\n",
              "    </tr>\n",
              "  </thead>\n",
              "  <tbody>\n",
              "    <tr>\n",
              "      <th>0</th>\n",
              "      <td>5.0</td>\n",
              "      <td>47986</td>\n",
              "      <td>10325</td>\n",
              "      <td>Sausa Weizen</td>\n",
              "      <td>Hefeweizen</td>\n",
              "      <td>2.5</td>\n",
              "      <td>2.0</td>\n",
              "      <td>1.5</td>\n",
              "      <td>1.5</td>\n",
              "      <td>stcules</td>\n",
              "      <td>1.5</td>\n",
              "      <td>A lot of foam. But a lot. In the smell some ba...</td>\n",
              "      <td>1234817823</td>\n",
              "    </tr>\n",
              "    <tr>\n",
              "      <th>1</th>\n",
              "      <td>6.2</td>\n",
              "      <td>48213</td>\n",
              "      <td>10325</td>\n",
              "      <td>Red Moon</td>\n",
              "      <td>English Strong Ale</td>\n",
              "      <td>3.0</td>\n",
              "      <td>2.5</td>\n",
              "      <td>3.0</td>\n",
              "      <td>3.0</td>\n",
              "      <td>stcules</td>\n",
              "      <td>3.0</td>\n",
              "      <td>Dark red color, light beige foam, average. In ...</td>\n",
              "      <td>1235915097</td>\n",
              "    </tr>\n",
              "    <tr>\n",
              "      <th>2</th>\n",
              "      <td>6.5</td>\n",
              "      <td>48215</td>\n",
              "      <td>10325</td>\n",
              "      <td>Black Horse Black Beer</td>\n",
              "      <td>Foreign / Export Stout</td>\n",
              "      <td>3.0</td>\n",
              "      <td>2.5</td>\n",
              "      <td>3.0</td>\n",
              "      <td>3.0</td>\n",
              "      <td>stcules</td>\n",
              "      <td>3.0</td>\n",
              "      <td>Almost totally black. Beige foam, quite compac...</td>\n",
              "      <td>1235916604</td>\n",
              "    </tr>\n",
              "    <tr>\n",
              "      <th>3</th>\n",
              "      <td>5.0</td>\n",
              "      <td>47969</td>\n",
              "      <td>10325</td>\n",
              "      <td>Sausa Pils</td>\n",
              "      <td>German Pilsener</td>\n",
              "      <td>3.5</td>\n",
              "      <td>3.0</td>\n",
              "      <td>3.0</td>\n",
              "      <td>2.5</td>\n",
              "      <td>stcules</td>\n",
              "      <td>3.0</td>\n",
              "      <td>Golden yellow color. White, compact foam, quit...</td>\n",
              "      <td>1234725145</td>\n",
              "    </tr>\n",
              "    <tr>\n",
              "      <th>4</th>\n",
              "      <td>7.7</td>\n",
              "      <td>64883</td>\n",
              "      <td>1075</td>\n",
              "      <td>Cauldron DIPA</td>\n",
              "      <td>American Double / Imperial IPA</td>\n",
              "      <td>4.0</td>\n",
              "      <td>4.5</td>\n",
              "      <td>4.0</td>\n",
              "      <td>4.0</td>\n",
              "      <td>johnmichaelsen</td>\n",
              "      <td>4.5</td>\n",
              "      <td>According to the website, the style for the Ca...</td>\n",
              "      <td>1293735206</td>\n",
              "    </tr>\n",
              "    <tr>\n",
              "      <th>...</th>\n",
              "      <td>...</td>\n",
              "      <td>...</td>\n",
              "      <td>...</td>\n",
              "      <td>...</td>\n",
              "      <td>...</td>\n",
              "      <td>...</td>\n",
              "      <td>...</td>\n",
              "      <td>...</td>\n",
              "      <td>...</td>\n",
              "      <td>...</td>\n",
              "      <td>...</td>\n",
              "      <td>...</td>\n",
              "      <td>...</td>\n",
              "    </tr>\n",
              "    <tr>\n",
              "      <th>528792</th>\n",
              "      <td>5.1</td>\n",
              "      <td>29915</td>\n",
              "      <td>3340</td>\n",
              "      <td>Dinkelacker Goldhälsle</td>\n",
              "      <td>German Pilsener</td>\n",
              "      <td>4.0</td>\n",
              "      <td>3.5</td>\n",
              "      <td>4.5</td>\n",
              "      <td>4.0</td>\n",
              "      <td>Lexluthor33</td>\n",
              "      <td>4.0</td>\n",
              "      <td>MSG-watching the Knicks lose. (Notes) Clear ye...</td>\n",
              "      <td>1228362569</td>\n",
              "    </tr>\n",
              "    <tr>\n",
              "      <th>528793</th>\n",
              "      <td>5.1</td>\n",
              "      <td>29915</td>\n",
              "      <td>3340</td>\n",
              "      <td>Dinkelacker Goldhälsle</td>\n",
              "      <td>German Pilsener</td>\n",
              "      <td>4.0</td>\n",
              "      <td>3.5</td>\n",
              "      <td>3.5</td>\n",
              "      <td>3.5</td>\n",
              "      <td>stoutman</td>\n",
              "      <td>3.5</td>\n",
              "      <td>Clean clear yellow body, with a full white foa...</td>\n",
              "      <td>1145135174</td>\n",
              "    </tr>\n",
              "    <tr>\n",
              "      <th>528794</th>\n",
              "      <td>4.9</td>\n",
              "      <td>32658</td>\n",
              "      <td>3340</td>\n",
              "      <td>Schwaben Pilsner</td>\n",
              "      <td>German Pilsener</td>\n",
              "      <td>3.5</td>\n",
              "      <td>3.5</td>\n",
              "      <td>3.0</td>\n",
              "      <td>3.0</td>\n",
              "      <td>thierrynantes</td>\n",
              "      <td>3.0</td>\n",
              "      <td>Beer bottle (33cl.), tasted in 2002. Appearanc...</td>\n",
              "      <td>1228640743</td>\n",
              "    </tr>\n",
              "    <tr>\n",
              "      <th>528795</th>\n",
              "      <td>4.9</td>\n",
              "      <td>32658</td>\n",
              "      <td>3340</td>\n",
              "      <td>Schwaben Pilsner</td>\n",
              "      <td>German Pilsener</td>\n",
              "      <td>3.0</td>\n",
              "      <td>3.0</td>\n",
              "      <td>3.5</td>\n",
              "      <td>3.0</td>\n",
              "      <td>wl0307</td>\n",
              "      <td>3.0</td>\n",
              "      <td>Like the previous reviewer, I got this beer at...</td>\n",
              "      <td>1166818317</td>\n",
              "    </tr>\n",
              "    <tr>\n",
              "      <th>528796</th>\n",
              "      <td>4.9</td>\n",
              "      <td>32658</td>\n",
              "      <td>3340</td>\n",
              "      <td>Schwaben Pilsner</td>\n",
              "      <td>German Pilsener</td>\n",
              "      <td>3.0</td>\n",
              "      <td>2.5</td>\n",
              "      <td>2.5</td>\n",
              "      <td>2.5</td>\n",
              "      <td>BlackHaddock</td>\n",
              "      <td>2.5</td>\n",
              "      <td>This beer is sold in the UK by the German supe...</td>\n",
              "      <td>1157572552</td>\n",
              "    </tr>\n",
              "  </tbody>\n",
              "</table>\n",
              "<p>508358 rows × 13 columns</p>\n",
              "</div>\n",
              "      <button class=\"colab-df-convert\" onclick=\"convertToInteractive('df-43485fa5-b732-4114-b2a6-dff71a01b5e8')\"\n",
              "              title=\"Convert this dataframe to an interactive table.\"\n",
              "              style=\"display:none;\">\n",
              "        \n",
              "  <svg xmlns=\"http://www.w3.org/2000/svg\" height=\"24px\"viewBox=\"0 0 24 24\"\n",
              "       width=\"24px\">\n",
              "    <path d=\"M0 0h24v24H0V0z\" fill=\"none\"/>\n",
              "    <path d=\"M18.56 5.44l.94 2.06.94-2.06 2.06-.94-2.06-.94-.94-2.06-.94 2.06-2.06.94zm-11 1L8.5 8.5l.94-2.06 2.06-.94-2.06-.94L8.5 2.5l-.94 2.06-2.06.94zm10 10l.94 2.06.94-2.06 2.06-.94-2.06-.94-.94-2.06-.94 2.06-2.06.94z\"/><path d=\"M17.41 7.96l-1.37-1.37c-.4-.4-.92-.59-1.43-.59-.52 0-1.04.2-1.43.59L10.3 9.45l-7.72 7.72c-.78.78-.78 2.05 0 2.83L4 21.41c.39.39.9.59 1.41.59.51 0 1.02-.2 1.41-.59l7.78-7.78 2.81-2.81c.8-.78.8-2.07 0-2.86zM5.41 20L4 18.59l7.72-7.72 1.47 1.35L5.41 20z\"/>\n",
              "  </svg>\n",
              "      </button>\n",
              "      \n",
              "  <style>\n",
              "    .colab-df-container {\n",
              "      display:flex;\n",
              "      flex-wrap:wrap;\n",
              "      gap: 12px;\n",
              "    }\n",
              "\n",
              "    .colab-df-convert {\n",
              "      background-color: #E8F0FE;\n",
              "      border: none;\n",
              "      border-radius: 50%;\n",
              "      cursor: pointer;\n",
              "      display: none;\n",
              "      fill: #1967D2;\n",
              "      height: 32px;\n",
              "      padding: 0 0 0 0;\n",
              "      width: 32px;\n",
              "    }\n",
              "\n",
              "    .colab-df-convert:hover {\n",
              "      background-color: #E2EBFA;\n",
              "      box-shadow: 0px 1px 2px rgba(60, 64, 67, 0.3), 0px 1px 3px 1px rgba(60, 64, 67, 0.15);\n",
              "      fill: #174EA6;\n",
              "    }\n",
              "\n",
              "    [theme=dark] .colab-df-convert {\n",
              "      background-color: #3B4455;\n",
              "      fill: #D2E3FC;\n",
              "    }\n",
              "\n",
              "    [theme=dark] .colab-df-convert:hover {\n",
              "      background-color: #434B5C;\n",
              "      box-shadow: 0px 1px 3px 1px rgba(0, 0, 0, 0.15);\n",
              "      filter: drop-shadow(0px 1px 2px rgba(0, 0, 0, 0.3));\n",
              "      fill: #FFFFFF;\n",
              "    }\n",
              "  </style>\n",
              "\n",
              "      <script>\n",
              "        const buttonEl =\n",
              "          document.querySelector('#df-43485fa5-b732-4114-b2a6-dff71a01b5e8 button.colab-df-convert');\n",
              "        buttonEl.style.display =\n",
              "          google.colab.kernel.accessAllowed ? 'block' : 'none';\n",
              "\n",
              "        async function convertToInteractive(key) {\n",
              "          const element = document.querySelector('#df-43485fa5-b732-4114-b2a6-dff71a01b5e8');\n",
              "          const dataTable =\n",
              "            await google.colab.kernel.invokeFunction('convertToInteractive',\n",
              "                                                     [key], {});\n",
              "          if (!dataTable) return;\n",
              "\n",
              "          const docLinkHtml = 'Like what you see? Visit the ' +\n",
              "            '<a target=\"_blank\" href=https://colab.research.google.com/notebooks/data_table.ipynb>data table notebook</a>'\n",
              "            + ' to learn more about interactive tables.';\n",
              "          element.innerHTML = '';\n",
              "          dataTable['output_type'] = 'display_data';\n",
              "          await google.colab.output.renderOutput(dataTable, element);\n",
              "          const docLink = document.createElement('div');\n",
              "          docLink.innerHTML = docLinkHtml;\n",
              "          element.appendChild(docLink);\n",
              "        }\n",
              "      </script>\n",
              "    </div>\n",
              "  </div>\n",
              "  "
            ],
            "text/plain": [
              "        beer_ABV  ...  review_time\n",
              "0            5.0  ...   1234817823\n",
              "1            6.2  ...   1235915097\n",
              "2            6.5  ...   1235916604\n",
              "3            5.0  ...   1234725145\n",
              "4            7.7  ...   1293735206\n",
              "...          ...  ...          ...\n",
              "528792       5.1  ...   1228362569\n",
              "528793       5.1  ...   1145135174\n",
              "528794       4.9  ...   1228640743\n",
              "528795       4.9  ...   1166818317\n",
              "528796       4.9  ...   1157572552\n",
              "\n",
              "[508358 rows x 13 columns]"
            ]
          },
          "metadata": {},
          "execution_count": 48
        }
      ]
    },
    {
      "cell_type": "code",
      "source": [
        "text.groupby('beer_style').count()"
      ],
      "metadata": {
        "colab": {
          "base_uri": "https://localhost:8080/",
          "height": 675
        },
        "id": "DWJn-ssJppsA",
        "outputId": "1fd601f0-82a3-476c-e660-e06266d238d4"
      },
      "execution_count": 49,
      "outputs": [
        {
          "output_type": "execute_result",
          "data": {
            "text/html": [
              "\n",
              "  <div id=\"df-699663f8-9402-4a74-acba-6051e33465a1\">\n",
              "    <div class=\"colab-df-container\">\n",
              "      <div>\n",
              "<style scoped>\n",
              "    .dataframe tbody tr th:only-of-type {\n",
              "        vertical-align: middle;\n",
              "    }\n",
              "\n",
              "    .dataframe tbody tr th {\n",
              "        vertical-align: top;\n",
              "    }\n",
              "\n",
              "    .dataframe thead th {\n",
              "        text-align: right;\n",
              "    }\n",
              "</style>\n",
              "<table border=\"1\" class=\"dataframe\">\n",
              "  <thead>\n",
              "    <tr style=\"text-align: right;\">\n",
              "      <th></th>\n",
              "      <th>beer_ABV</th>\n",
              "      <th>beer_beerId</th>\n",
              "      <th>beer_brewerId</th>\n",
              "      <th>beer_name</th>\n",
              "      <th>review_appearance</th>\n",
              "      <th>review_palette</th>\n",
              "      <th>review_overall</th>\n",
              "      <th>review_taste</th>\n",
              "      <th>review_profileName</th>\n",
              "      <th>review_aroma</th>\n",
              "      <th>review_text</th>\n",
              "      <th>review_time</th>\n",
              "    </tr>\n",
              "    <tr>\n",
              "      <th>beer_style</th>\n",
              "      <th></th>\n",
              "      <th></th>\n",
              "      <th></th>\n",
              "      <th></th>\n",
              "      <th></th>\n",
              "      <th></th>\n",
              "      <th></th>\n",
              "      <th></th>\n",
              "      <th></th>\n",
              "      <th></th>\n",
              "      <th></th>\n",
              "      <th></th>\n",
              "    </tr>\n",
              "  </thead>\n",
              "  <tbody>\n",
              "    <tr>\n",
              "      <th>Altbier</th>\n",
              "      <td>3538</td>\n",
              "      <td>3538</td>\n",
              "      <td>3538</td>\n",
              "      <td>3538</td>\n",
              "      <td>3538</td>\n",
              "      <td>3538</td>\n",
              "      <td>3538</td>\n",
              "      <td>3538</td>\n",
              "      <td>3538</td>\n",
              "      <td>3538</td>\n",
              "      <td>3538</td>\n",
              "      <td>3538</td>\n",
              "    </tr>\n",
              "    <tr>\n",
              "      <th>American Adjunct Lager</th>\n",
              "      <td>9033</td>\n",
              "      <td>9033</td>\n",
              "      <td>9033</td>\n",
              "      <td>9033</td>\n",
              "      <td>9033</td>\n",
              "      <td>9033</td>\n",
              "      <td>9033</td>\n",
              "      <td>9033</td>\n",
              "      <td>9033</td>\n",
              "      <td>9033</td>\n",
              "      <td>9033</td>\n",
              "      <td>9033</td>\n",
              "    </tr>\n",
              "    <tr>\n",
              "      <th>American Amber / Red Ale</th>\n",
              "      <td>17602</td>\n",
              "      <td>17602</td>\n",
              "      <td>17602</td>\n",
              "      <td>17602</td>\n",
              "      <td>17602</td>\n",
              "      <td>17602</td>\n",
              "      <td>17602</td>\n",
              "      <td>17602</td>\n",
              "      <td>17602</td>\n",
              "      <td>17602</td>\n",
              "      <td>17602</td>\n",
              "      <td>17602</td>\n",
              "    </tr>\n",
              "    <tr>\n",
              "      <th>American Amber / Red Lager</th>\n",
              "      <td>2793</td>\n",
              "      <td>2793</td>\n",
              "      <td>2793</td>\n",
              "      <td>2793</td>\n",
              "      <td>2793</td>\n",
              "      <td>2793</td>\n",
              "      <td>2793</td>\n",
              "      <td>2793</td>\n",
              "      <td>2793</td>\n",
              "      <td>2793</td>\n",
              "      <td>2793</td>\n",
              "      <td>2793</td>\n",
              "    </tr>\n",
              "    <tr>\n",
              "      <th>American Barleywine</th>\n",
              "      <td>9984</td>\n",
              "      <td>9984</td>\n",
              "      <td>9984</td>\n",
              "      <td>9984</td>\n",
              "      <td>9984</td>\n",
              "      <td>9984</td>\n",
              "      <td>9984</td>\n",
              "      <td>9984</td>\n",
              "      <td>9984</td>\n",
              "      <td>9984</td>\n",
              "      <td>9984</td>\n",
              "      <td>9984</td>\n",
              "    </tr>\n",
              "    <tr>\n",
              "      <th>...</th>\n",
              "      <td>...</td>\n",
              "      <td>...</td>\n",
              "      <td>...</td>\n",
              "      <td>...</td>\n",
              "      <td>...</td>\n",
              "      <td>...</td>\n",
              "      <td>...</td>\n",
              "      <td>...</td>\n",
              "      <td>...</td>\n",
              "      <td>...</td>\n",
              "      <td>...</td>\n",
              "      <td>...</td>\n",
              "    </tr>\n",
              "    <tr>\n",
              "      <th>Vienna Lager</th>\n",
              "      <td>4298</td>\n",
              "      <td>4298</td>\n",
              "      <td>4298</td>\n",
              "      <td>4298</td>\n",
              "      <td>4298</td>\n",
              "      <td>4298</td>\n",
              "      <td>4298</td>\n",
              "      <td>4298</td>\n",
              "      <td>4298</td>\n",
              "      <td>4298</td>\n",
              "      <td>4298</td>\n",
              "      <td>4298</td>\n",
              "    </tr>\n",
              "    <tr>\n",
              "      <th>Weizenbock</th>\n",
              "      <td>2182</td>\n",
              "      <td>2182</td>\n",
              "      <td>2182</td>\n",
              "      <td>2182</td>\n",
              "      <td>2182</td>\n",
              "      <td>2182</td>\n",
              "      <td>2182</td>\n",
              "      <td>2182</td>\n",
              "      <td>2182</td>\n",
              "      <td>2182</td>\n",
              "      <td>2182</td>\n",
              "      <td>2182</td>\n",
              "    </tr>\n",
              "    <tr>\n",
              "      <th>Wheatwine</th>\n",
              "      <td>882</td>\n",
              "      <td>882</td>\n",
              "      <td>882</td>\n",
              "      <td>882</td>\n",
              "      <td>882</td>\n",
              "      <td>882</td>\n",
              "      <td>882</td>\n",
              "      <td>882</td>\n",
              "      <td>882</td>\n",
              "      <td>882</td>\n",
              "      <td>882</td>\n",
              "      <td>882</td>\n",
              "    </tr>\n",
              "    <tr>\n",
              "      <th>Winter Warmer</th>\n",
              "      <td>5836</td>\n",
              "      <td>5836</td>\n",
              "      <td>5836</td>\n",
              "      <td>5836</td>\n",
              "      <td>5836</td>\n",
              "      <td>5836</td>\n",
              "      <td>5836</td>\n",
              "      <td>5836</td>\n",
              "      <td>5836</td>\n",
              "      <td>5836</td>\n",
              "      <td>5836</td>\n",
              "      <td>5836</td>\n",
              "    </tr>\n",
              "    <tr>\n",
              "      <th>Witbier</th>\n",
              "      <td>13223</td>\n",
              "      <td>13223</td>\n",
              "      <td>13223</td>\n",
              "      <td>13223</td>\n",
              "      <td>13223</td>\n",
              "      <td>13223</td>\n",
              "      <td>13223</td>\n",
              "      <td>13223</td>\n",
              "      <td>13223</td>\n",
              "      <td>13223</td>\n",
              "      <td>13223</td>\n",
              "      <td>13223</td>\n",
              "    </tr>\n",
              "  </tbody>\n",
              "</table>\n",
              "<p>104 rows × 12 columns</p>\n",
              "</div>\n",
              "      <button class=\"colab-df-convert\" onclick=\"convertToInteractive('df-699663f8-9402-4a74-acba-6051e33465a1')\"\n",
              "              title=\"Convert this dataframe to an interactive table.\"\n",
              "              style=\"display:none;\">\n",
              "        \n",
              "  <svg xmlns=\"http://www.w3.org/2000/svg\" height=\"24px\"viewBox=\"0 0 24 24\"\n",
              "       width=\"24px\">\n",
              "    <path d=\"M0 0h24v24H0V0z\" fill=\"none\"/>\n",
              "    <path d=\"M18.56 5.44l.94 2.06.94-2.06 2.06-.94-2.06-.94-.94-2.06-.94 2.06-2.06.94zm-11 1L8.5 8.5l.94-2.06 2.06-.94-2.06-.94L8.5 2.5l-.94 2.06-2.06.94zm10 10l.94 2.06.94-2.06 2.06-.94-2.06-.94-.94-2.06-.94 2.06-2.06.94z\"/><path d=\"M17.41 7.96l-1.37-1.37c-.4-.4-.92-.59-1.43-.59-.52 0-1.04.2-1.43.59L10.3 9.45l-7.72 7.72c-.78.78-.78 2.05 0 2.83L4 21.41c.39.39.9.59 1.41.59.51 0 1.02-.2 1.41-.59l7.78-7.78 2.81-2.81c.8-.78.8-2.07 0-2.86zM5.41 20L4 18.59l7.72-7.72 1.47 1.35L5.41 20z\"/>\n",
              "  </svg>\n",
              "      </button>\n",
              "      \n",
              "  <style>\n",
              "    .colab-df-container {\n",
              "      display:flex;\n",
              "      flex-wrap:wrap;\n",
              "      gap: 12px;\n",
              "    }\n",
              "\n",
              "    .colab-df-convert {\n",
              "      background-color: #E8F0FE;\n",
              "      border: none;\n",
              "      border-radius: 50%;\n",
              "      cursor: pointer;\n",
              "      display: none;\n",
              "      fill: #1967D2;\n",
              "      height: 32px;\n",
              "      padding: 0 0 0 0;\n",
              "      width: 32px;\n",
              "    }\n",
              "\n",
              "    .colab-df-convert:hover {\n",
              "      background-color: #E2EBFA;\n",
              "      box-shadow: 0px 1px 2px rgba(60, 64, 67, 0.3), 0px 1px 3px 1px rgba(60, 64, 67, 0.15);\n",
              "      fill: #174EA6;\n",
              "    }\n",
              "\n",
              "    [theme=dark] .colab-df-convert {\n",
              "      background-color: #3B4455;\n",
              "      fill: #D2E3FC;\n",
              "    }\n",
              "\n",
              "    [theme=dark] .colab-df-convert:hover {\n",
              "      background-color: #434B5C;\n",
              "      box-shadow: 0px 1px 3px 1px rgba(0, 0, 0, 0.15);\n",
              "      filter: drop-shadow(0px 1px 2px rgba(0, 0, 0, 0.3));\n",
              "      fill: #FFFFFF;\n",
              "    }\n",
              "  </style>\n",
              "\n",
              "      <script>\n",
              "        const buttonEl =\n",
              "          document.querySelector('#df-699663f8-9402-4a74-acba-6051e33465a1 button.colab-df-convert');\n",
              "        buttonEl.style.display =\n",
              "          google.colab.kernel.accessAllowed ? 'block' : 'none';\n",
              "\n",
              "        async function convertToInteractive(key) {\n",
              "          const element = document.querySelector('#df-699663f8-9402-4a74-acba-6051e33465a1');\n",
              "          const dataTable =\n",
              "            await google.colab.kernel.invokeFunction('convertToInteractive',\n",
              "                                                     [key], {});\n",
              "          if (!dataTable) return;\n",
              "\n",
              "          const docLinkHtml = 'Like what you see? Visit the ' +\n",
              "            '<a target=\"_blank\" href=https://colab.research.google.com/notebooks/data_table.ipynb>data table notebook</a>'\n",
              "            + ' to learn more about interactive tables.';\n",
              "          element.innerHTML = '';\n",
              "          dataTable['output_type'] = 'display_data';\n",
              "          await google.colab.output.renderOutput(dataTable, element);\n",
              "          const docLink = document.createElement('div');\n",
              "          docLink.innerHTML = docLinkHtml;\n",
              "          element.appendChild(docLink);\n",
              "        }\n",
              "      </script>\n",
              "    </div>\n",
              "  </div>\n",
              "  "
            ],
            "text/plain": [
              "                            beer_ABV  beer_beerId  ...  review_text  review_time\n",
              "beer_style                                         ...                          \n",
              "Altbier                         3538         3538  ...         3538         3538\n",
              "American Adjunct Lager          9033         9033  ...         9033         9033\n",
              "American Amber / Red Ale       17602        17602  ...        17602        17602\n",
              "American Amber / Red Lager      2793         2793  ...         2793         2793\n",
              "American Barleywine             9984         9984  ...         9984         9984\n",
              "...                              ...          ...  ...          ...          ...\n",
              "Vienna Lager                    4298         4298  ...         4298         4298\n",
              "Weizenbock                      2182         2182  ...         2182         2182\n",
              "Wheatwine                        882          882  ...          882          882\n",
              "Winter Warmer                   5836         5836  ...         5836         5836\n",
              "Witbier                        13223        13223  ...        13223        13223\n",
              "\n",
              "[104 rows x 12 columns]"
            ]
          },
          "metadata": {},
          "execution_count": 49
        }
      ]
    },
    {
      "cell_type": "code",
      "source": [
        "#text=pd.DataFrame()\n",
        "#for i in df['beer_style'].unique():\n",
        "  #text=pd.concat([text,df[df.beer_style==i].dropna()[:891]])"
      ],
      "metadata": {
        "id": "C-jUwaOyl0kc"
      },
      "execution_count": 50,
      "outputs": []
    },
    {
      "cell_type": "code",
      "source": [
        "text.reset_index(inplace=True)"
      ],
      "metadata": {
        "id": "yAqFzX8pp6OU"
      },
      "execution_count": 51,
      "outputs": []
    },
    {
      "cell_type": "code",
      "source": [
        "# function to perform stemming\n",
        "\n",
        "def stemming(text):\n",
        "    \n",
        "    # stems each word in the review to it's root word\n",
        "    stemmer = nltk.porter.PorterStemmer()\n",
        "    text = ' '.join([stemmer.stem(word) for word in text.split()])\n",
        "    return text"
      ],
      "metadata": {
        "id": "YHu8yBb-kF4V"
      },
      "execution_count": 52,
      "outputs": []
    },
    {
      "cell_type": "code",
      "source": [
        "def preprocess_review(text):\n",
        "    \n",
        "    \"\"\"\n",
        "    Function\n",
        "    --------\n",
        "    preprocess_review\n",
        "\n",
        "    Inputs\n",
        "    ------\n",
        "    text: the review which need to be pre-processed\n",
        "\n",
        "    Returns\n",
        "    -------\n",
        "    clean_review: the pre-processed review obtained \n",
        "    \"\"\"\n",
        "    \n",
        "    \n",
        "    clean_review = BeautifulSoup(text).get_text()\n",
        "    clean_review = clean_review.lower()\n",
        "    clean_review =re.sub(('[^a-z\\s]+'),\" \",clean_review)\n",
        "    clean_review =re.sub(('\\s+'),\" \",clean_review)\n",
        "    stemming_review = stemming(clean_review)\n",
        "    #print(stemming_review)\n",
        "    return stemming_review"
      ],
      "metadata": {
        "id": "9zPm1nC1kjqg"
      },
      "execution_count": 53,
      "outputs": []
    },
    {
      "cell_type": "code",
      "source": [
        "X = [preprocess_review(review) for review in text['review_text']]\n",
        "print('data cleaned')"
      ],
      "metadata": {
        "colab": {
          "base_uri": "https://localhost:8080/"
        },
        "id": "4EzuDj-8kwrF",
        "outputId": "bbbdd2fe-951e-4324-b991-f026cd6ae7a6"
      },
      "execution_count": 54,
      "outputs": [
        {
          "output_type": "stream",
          "name": "stdout",
          "text": [
            "data cleaned\n"
          ]
        }
      ]
    },
    {
      "cell_type": "code",
      "source": [
        "#Tokenization\n",
        "tokenizer = CountVectorizer(max_features = 1000, stop_words = 'english')"
      ],
      "metadata": {
        "id": "as2tSfmBk5VO"
      },
      "execution_count": 55,
      "outputs": []
    },
    {
      "cell_type": "code",
      "source": [
        "# tokenizing the words in X\n",
        "tokenizer.fit(X)\n",
        "X_train_tokenized = tokenizer.transform(X)\n",
        "tokenized_sum = X_train_tokenized.sum(axis = 0)\n",
        "\n",
        "count_list = []\n",
        "for word,index in tokenizer.vocabulary_.items():\n",
        "    count_list.append((word,tokenized_sum[0,index]))\n",
        "\n",
        "sorted_countlist = sorted(count_list,key= lambda x: x[1],reverse= True)"
      ],
      "metadata": {
        "id": "rkIThOImlO_I"
      },
      "execution_count": 56,
      "outputs": []
    },
    {
      "cell_type": "code",
      "source": [
        "y_train=[1 if y>=3 else 0 for y in text.review_overall]"
      ],
      "metadata": {
        "id": "3kXRh1zKqGbi"
      },
      "execution_count": 81,
      "outputs": []
    },
    {
      "cell_type": "code",
      "source": [
        "#logistic regression to have a look at approximate positive and negative reviews\n",
        "c=[0.001,0.01,0.1,1,10,100]\n",
        "error=np.empty(6)\n",
        "max=0\n",
        "index=0\n",
        "for i in range(6):\n",
        " logr=LogisticRegression(C=c[i])\n",
        " model=logr.fit(X_train_tokenized,y_train)\n",
        " predict_ontest=model.predict(X_train_tokenized)\n",
        " if (accuracy_score(y_train,model.predict(X_train_tokenized))>max):\n",
        "    bow_model=model"
      ],
      "metadata": {
        "colab": {
          "base_uri": "https://localhost:8080/"
        },
        "id": "KW-LX3Olq4yt",
        "outputId": "dc02d55e-8b5f-44de-f453-a77f9b3d7c1b"
      },
      "execution_count": 82,
      "outputs": [
        {
          "output_type": "stream",
          "name": "stderr",
          "text": [
            "/usr/local/lib/python3.7/dist-packages/sklearn/linear_model/_logistic.py:818: ConvergenceWarning:\n",
            "\n",
            "lbfgs failed to converge (status=1):\n",
            "STOP: TOTAL NO. of ITERATIONS REACHED LIMIT.\n",
            "\n",
            "Increase the number of iterations (max_iter) or scale the data as shown in:\n",
            "    https://scikit-learn.org/stable/modules/preprocessing.html\n",
            "Please also refer to the documentation for alternative solver options:\n",
            "    https://scikit-learn.org/stable/modules/linear_model.html#logistic-regression\n",
            "\n",
            "/usr/local/lib/python3.7/dist-packages/sklearn/linear_model/_logistic.py:818: ConvergenceWarning:\n",
            "\n",
            "lbfgs failed to converge (status=1):\n",
            "STOP: TOTAL NO. of ITERATIONS REACHED LIMIT.\n",
            "\n",
            "Increase the number of iterations (max_iter) or scale the data as shown in:\n",
            "    https://scikit-learn.org/stable/modules/preprocessing.html\n",
            "Please also refer to the documentation for alternative solver options:\n",
            "    https://scikit-learn.org/stable/modules/linear_model.html#logistic-regression\n",
            "\n",
            "/usr/local/lib/python3.7/dist-packages/sklearn/linear_model/_logistic.py:818: ConvergenceWarning:\n",
            "\n",
            "lbfgs failed to converge (status=1):\n",
            "STOP: TOTAL NO. of ITERATIONS REACHED LIMIT.\n",
            "\n",
            "Increase the number of iterations (max_iter) or scale the data as shown in:\n",
            "    https://scikit-learn.org/stable/modules/preprocessing.html\n",
            "Please also refer to the documentation for alternative solver options:\n",
            "    https://scikit-learn.org/stable/modules/linear_model.html#logistic-regression\n",
            "\n",
            "/usr/local/lib/python3.7/dist-packages/sklearn/linear_model/_logistic.py:818: ConvergenceWarning:\n",
            "\n",
            "lbfgs failed to converge (status=1):\n",
            "STOP: TOTAL NO. of ITERATIONS REACHED LIMIT.\n",
            "\n",
            "Increase the number of iterations (max_iter) or scale the data as shown in:\n",
            "    https://scikit-learn.org/stable/modules/preprocessing.html\n",
            "Please also refer to the documentation for alternative solver options:\n",
            "    https://scikit-learn.org/stable/modules/linear_model.html#logistic-regression\n",
            "\n",
            "/usr/local/lib/python3.7/dist-packages/sklearn/linear_model/_logistic.py:818: ConvergenceWarning:\n",
            "\n",
            "lbfgs failed to converge (status=1):\n",
            "STOP: TOTAL NO. of ITERATIONS REACHED LIMIT.\n",
            "\n",
            "Increase the number of iterations (max_iter) or scale the data as shown in:\n",
            "    https://scikit-learn.org/stable/modules/preprocessing.html\n",
            "Please also refer to the documentation for alternative solver options:\n",
            "    https://scikit-learn.org/stable/modules/linear_model.html#logistic-regression\n",
            "\n"
          ]
        }
      ]
    },
    {
      "cell_type": "code",
      "source": [
        "print(\"training_set\", accuracy_score(y_train,bow_model.predict(X_train_tokenized)))"
      ],
      "metadata": {
        "colab": {
          "base_uri": "https://localhost:8080/"
        },
        "id": "q2NH_7acq-7-",
        "outputId": "a43b25e5-d479-4e02-fdb8-40e9ec899eea"
      },
      "execution_count": 83,
      "outputs": [
        {
          "output_type": "stream",
          "name": "stdout",
          "text": [
            "training_set 0.9379138323779699\n"
          ]
        }
      ]
    },
    {
      "cell_type": "code",
      "source": [
        "# function to plot confusion matrix\n",
        "\n",
        "def plot_confusion_matrix(model, validation_features, validation_labels):\n",
        "     \n",
        "    \"\"\"\n",
        "    Function\n",
        "    --------\n",
        "    plot_confusion_matrix\n",
        "\n",
        "    Inputs\n",
        "    ------\n",
        "    model: the classification model\n",
        "    validation_features: features/variables used in the model (X)\n",
        "    validation_labels: response variable (good/bad sentiment) (y)\n",
        "\n",
        "    Notes\n",
        "    -----\n",
        "    Calling this function should plot a confusion matrix. \n",
        "    \"\"\"\n",
        "    \n",
        "    # Predict the values from the validation dataset\n",
        "    y_pred = model.predict(validation_features)\n",
        "    \n",
        "    # Convert validation observations to one hot vectors\n",
        "    y_true = [1 if y>0.5 else 0 for y in y_pred]\n",
        "    \n",
        "    # compute the confusion matrix\n",
        "    confusion_mtx = confusion_matrix(validation_labels,y_true)\n",
        "\n",
        "    df_cm = pd.DataFrame(confusion_mtx, range(2),\n",
        "                      range(2))\n",
        "    sns.heatmap(df_cm, annot=True, annot_kws = {'size':15}, cmap = 'Blues',fmt = 'd',\n",
        "                norm=matplotlib.colors.LogNorm(df_cm.values.min(),df_cm.values.max()),\n",
        "                cbar_kws={\"ticks\":[0,1,10,1e2,1e3,1e4]},vmin=0.001, vmax=10000)\n",
        "    plt.tight_layout()\n",
        "    plt.title('Confusion matrix')\n",
        "    plt.ylabel('True label')\n",
        "    plt.xlabel('Predicted label')\n",
        "    plt.ylim(2,0)\n",
        "    plt.savefig(\"./confusion\")\n",
        "    plt.show()\n",
        "    "
      ],
      "metadata": {
        "id": "WlFfuj0TrLra"
      },
      "execution_count": 84,
      "outputs": []
    },
    {
      "cell_type": "code",
      "source": [
        "plot_confusion_matrix(bow_model, X_train_tokenized, y_train)"
      ],
      "metadata": {
        "colab": {
          "base_uri": "https://localhost:8080/",
          "height": 327
        },
        "id": "4osA05spva4E",
        "outputId": "d4724468-aff1-4f97-b3e3-1fd575d0911c"
      },
      "execution_count": 85,
      "outputs": [
        {
          "output_type": "display_data",
          "data": {
            "image/png": "[encoded data removed]",
            "text/plain": [
              "<Figure size 432x288 with 2 Axes>"
            ]
          },
          "metadata": {
            "needs_background": "light"
          }
        }
      ]
    },
    {
      "cell_type": "code",
      "source": [
        "from sklearn.ensemble import RandomForestClassifier\n",
        "rg=RandomForestClassifier(random_state=41,max_depth=7,min_samples_leaf=2,n_estimators=800,oob_score=True)\n",
        "rg.fit(X_train_tokenized,y_train)\n",
        "print(\"training_set\", accuracy_score(y_train,rg.predict(X_train_tokenized)))\n"
      ],
      "metadata": {
        "colab": {
          "base_uri": "https://localhost:8080/"
        },
        "id": "CPWAFPmYaGAC",
        "outputId": "051ca9c6-9ba4-4ff8-80b2-72d741af2003"
      },
      "execution_count": 89,
      "outputs": [
        {
          "output_type": "stream",
          "name": "stdout",
          "text": [
            "training_set 0.9303856730886502\n"
          ]
        }
      ]
    },
    {
      "cell_type": "markdown",
      "source": [
        "###Analysis of Results:"
      ],
      "metadata": {
        "id": "YTWqLfqqX8nB"
      }
    },
    {
      "cell_type": "code",
      "source": [
        "df.groupby('beer_style').mean()['review_overall'].sort_values(ascending=False)"
      ],
      "metadata": {
        "colab": {
          "base_uri": "https://localhost:8080/"
        },
        "id": "1EG08Gc-YhYG",
        "outputId": "9f272808-6ab4-4dc2-dbdd-0e12f646dd3b"
      },
      "execution_count": 45,
      "outputs": [
        {
          "output_type": "execute_result",
          "data": {
            "text/plain": [
              "beer_style\n",
              "Gueuze                              4.140952\n",
              "Berliner Weissbier                  4.133976\n",
              "American Double / Imperial Stout    4.100518\n",
              "Oatmeal Stout                       4.080768\n",
              "Eisbock                             4.079487\n",
              "                                      ...   \n",
              "Light Lager                         2.913462\n",
              "Happoshu                            2.818182\n",
              "Euro Strong Lager                   2.817995\n",
              "American Malt Liquor                2.722183\n",
              "Low Alcohol Beer                    2.602740\n",
              "Name: review_overall, Length: 104, dtype: float64"
            ]
          },
          "metadata": {},
          "execution_count": 45
        }
      ]
    },
    {
      "cell_type": "code",
      "source": [
        "text['review_class']=bow_model.predict(X_train_tokenized)"
      ],
      "metadata": {
        "id": "fh4YZ1mMZvvc"
      },
      "execution_count": 86,
      "outputs": []
    },
    {
      "cell_type": "code",
      "source": [
        "text"
      ],
      "metadata": {
        "colab": {
          "base_uri": "https://localhost:8080/",
          "height": 1000
        },
        "id": "DCkv99hHwwfM",
        "outputId": "a936355c-cec5-461b-88ae-d2b5fc6ecca2"
      },
      "execution_count": 87,
      "outputs": [
        {
          "output_type": "execute_result",
          "data": {
            "text/html": [
              "\n",
              "  <div id=\"df-d576d5e4-2669-4e20-b868-9aad9ad2caf3\">\n",
              "    <div class=\"colab-df-container\">\n",
              "      <div>\n",
              "<style scoped>\n",
              "    .dataframe tbody tr th:only-of-type {\n",
              "        vertical-align: middle;\n",
              "    }\n",
              "\n",
              "    .dataframe tbody tr th {\n",
              "        vertical-align: top;\n",
              "    }\n",
              "\n",
              "    .dataframe thead th {\n",
              "        text-align: right;\n",
              "    }\n",
              "</style>\n",
              "<table border=\"1\" class=\"dataframe\">\n",
              "  <thead>\n",
              "    <tr style=\"text-align: right;\">\n",
              "      <th></th>\n",
              "      <th>index</th>\n",
              "      <th>beer_ABV</th>\n",
              "      <th>beer_beerId</th>\n",
              "      <th>beer_brewerId</th>\n",
              "      <th>beer_name</th>\n",
              "      <th>beer_style</th>\n",
              "      <th>review_appearance</th>\n",
              "      <th>review_palette</th>\n",
              "      <th>review_overall</th>\n",
              "      <th>review_taste</th>\n",
              "      <th>review_profileName</th>\n",
              "      <th>review_aroma</th>\n",
              "      <th>review_text</th>\n",
              "      <th>review_time</th>\n",
              "      <th>review_class</th>\n",
              "    </tr>\n",
              "  </thead>\n",
              "  <tbody>\n",
              "    <tr>\n",
              "      <th>0</th>\n",
              "      <td>0</td>\n",
              "      <td>5.0</td>\n",
              "      <td>47986</td>\n",
              "      <td>10325</td>\n",
              "      <td>Sausa Weizen</td>\n",
              "      <td>Hefeweizen</td>\n",
              "      <td>2.5</td>\n",
              "      <td>2.0</td>\n",
              "      <td>1.5</td>\n",
              "      <td>1.5</td>\n",
              "      <td>stcules</td>\n",
              "      <td>1.5</td>\n",
              "      <td>A lot of foam. But a lot. In the smell some ba...</td>\n",
              "      <td>1234817823</td>\n",
              "      <td>1</td>\n",
              "    </tr>\n",
              "    <tr>\n",
              "      <th>1</th>\n",
              "      <td>1</td>\n",
              "      <td>6.2</td>\n",
              "      <td>48213</td>\n",
              "      <td>10325</td>\n",
              "      <td>Red Moon</td>\n",
              "      <td>English Strong Ale</td>\n",
              "      <td>3.0</td>\n",
              "      <td>2.5</td>\n",
              "      <td>3.0</td>\n",
              "      <td>3.0</td>\n",
              "      <td>stcules</td>\n",
              "      <td>3.0</td>\n",
              "      <td>Dark red color, light beige foam, average. In ...</td>\n",
              "      <td>1235915097</td>\n",
              "      <td>1</td>\n",
              "    </tr>\n",
              "    <tr>\n",
              "      <th>2</th>\n",
              "      <td>2</td>\n",
              "      <td>6.5</td>\n",
              "      <td>48215</td>\n",
              "      <td>10325</td>\n",
              "      <td>Black Horse Black Beer</td>\n",
              "      <td>Foreign / Export Stout</td>\n",
              "      <td>3.0</td>\n",
              "      <td>2.5</td>\n",
              "      <td>3.0</td>\n",
              "      <td>3.0</td>\n",
              "      <td>stcules</td>\n",
              "      <td>3.0</td>\n",
              "      <td>Almost totally black. Beige foam, quite compac...</td>\n",
              "      <td>1235916604</td>\n",
              "      <td>1</td>\n",
              "    </tr>\n",
              "    <tr>\n",
              "      <th>3</th>\n",
              "      <td>3</td>\n",
              "      <td>5.0</td>\n",
              "      <td>47969</td>\n",
              "      <td>10325</td>\n",
              "      <td>Sausa Pils</td>\n",
              "      <td>German Pilsener</td>\n",
              "      <td>3.5</td>\n",
              "      <td>3.0</td>\n",
              "      <td>3.0</td>\n",
              "      <td>2.5</td>\n",
              "      <td>stcules</td>\n",
              "      <td>3.0</td>\n",
              "      <td>Golden yellow color. White, compact foam, quit...</td>\n",
              "      <td>1234725145</td>\n",
              "      <td>1</td>\n",
              "    </tr>\n",
              "    <tr>\n",
              "      <th>4</th>\n",
              "      <td>4</td>\n",
              "      <td>7.7</td>\n",
              "      <td>64883</td>\n",
              "      <td>1075</td>\n",
              "      <td>Cauldron DIPA</td>\n",
              "      <td>American Double / Imperial IPA</td>\n",
              "      <td>4.0</td>\n",
              "      <td>4.5</td>\n",
              "      <td>4.0</td>\n",
              "      <td>4.0</td>\n",
              "      <td>johnmichaelsen</td>\n",
              "      <td>4.5</td>\n",
              "      <td>According to the website, the style for the Ca...</td>\n",
              "      <td>1293735206</td>\n",
              "      <td>1</td>\n",
              "    </tr>\n",
              "    <tr>\n",
              "      <th>...</th>\n",
              "      <td>...</td>\n",
              "      <td>...</td>\n",
              "      <td>...</td>\n",
              "      <td>...</td>\n",
              "      <td>...</td>\n",
              "      <td>...</td>\n",
              "      <td>...</td>\n",
              "      <td>...</td>\n",
              "      <td>...</td>\n",
              "      <td>...</td>\n",
              "      <td>...</td>\n",
              "      <td>...</td>\n",
              "      <td>...</td>\n",
              "      <td>...</td>\n",
              "      <td>...</td>\n",
              "    </tr>\n",
              "    <tr>\n",
              "      <th>508353</th>\n",
              "      <td>528792</td>\n",
              "      <td>5.1</td>\n",
              "      <td>29915</td>\n",
              "      <td>3340</td>\n",
              "      <td>Dinkelacker Goldhälsle</td>\n",
              "      <td>German Pilsener</td>\n",
              "      <td>4.0</td>\n",
              "      <td>3.5</td>\n",
              "      <td>4.5</td>\n",
              "      <td>4.0</td>\n",
              "      <td>Lexluthor33</td>\n",
              "      <td>4.0</td>\n",
              "      <td>MSG-watching the Knicks lose. (Notes) Clear ye...</td>\n",
              "      <td>1228362569</td>\n",
              "      <td>1</td>\n",
              "    </tr>\n",
              "    <tr>\n",
              "      <th>508354</th>\n",
              "      <td>528793</td>\n",
              "      <td>5.1</td>\n",
              "      <td>29915</td>\n",
              "      <td>3340</td>\n",
              "      <td>Dinkelacker Goldhälsle</td>\n",
              "      <td>German Pilsener</td>\n",
              "      <td>4.0</td>\n",
              "      <td>3.5</td>\n",
              "      <td>3.5</td>\n",
              "      <td>3.5</td>\n",
              "      <td>stoutman</td>\n",
              "      <td>3.5</td>\n",
              "      <td>Clean clear yellow body, with a full white foa...</td>\n",
              "      <td>1145135174</td>\n",
              "      <td>1</td>\n",
              "    </tr>\n",
              "    <tr>\n",
              "      <th>508355</th>\n",
              "      <td>528794</td>\n",
              "      <td>4.9</td>\n",
              "      <td>32658</td>\n",
              "      <td>3340</td>\n",
              "      <td>Schwaben Pilsner</td>\n",
              "      <td>German Pilsener</td>\n",
              "      <td>3.5</td>\n",
              "      <td>3.5</td>\n",
              "      <td>3.0</td>\n",
              "      <td>3.0</td>\n",
              "      <td>thierrynantes</td>\n",
              "      <td>3.0</td>\n",
              "      <td>Beer bottle (33cl.), tasted in 2002. Appearanc...</td>\n",
              "      <td>1228640743</td>\n",
              "      <td>1</td>\n",
              "    </tr>\n",
              "    <tr>\n",
              "      <th>508356</th>\n",
              "      <td>528795</td>\n",
              "      <td>4.9</td>\n",
              "      <td>32658</td>\n",
              "      <td>3340</td>\n",
              "      <td>Schwaben Pilsner</td>\n",
              "      <td>German Pilsener</td>\n",
              "      <td>3.0</td>\n",
              "      <td>3.0</td>\n",
              "      <td>3.5</td>\n",
              "      <td>3.0</td>\n",
              "      <td>wl0307</td>\n",
              "      <td>3.0</td>\n",
              "      <td>Like the previous reviewer, I got this beer at...</td>\n",
              "      <td>1166818317</td>\n",
              "      <td>1</td>\n",
              "    </tr>\n",
              "    <tr>\n",
              "      <th>508357</th>\n",
              "      <td>528796</td>\n",
              "      <td>4.9</td>\n",
              "      <td>32658</td>\n",
              "      <td>3340</td>\n",
              "      <td>Schwaben Pilsner</td>\n",
              "      <td>German Pilsener</td>\n",
              "      <td>3.0</td>\n",
              "      <td>2.5</td>\n",
              "      <td>2.5</td>\n",
              "      <td>2.5</td>\n",
              "      <td>BlackHaddock</td>\n",
              "      <td>2.5</td>\n",
              "      <td>This beer is sold in the UK by the German supe...</td>\n",
              "      <td>1157572552</td>\n",
              "      <td>1</td>\n",
              "    </tr>\n",
              "  </tbody>\n",
              "</table>\n",
              "<p>508358 rows × 15 columns</p>\n",
              "</div>\n",
              "      <button class=\"colab-df-convert\" onclick=\"convertToInteractive('df-d576d5e4-2669-4e20-b868-9aad9ad2caf3')\"\n",
              "              title=\"Convert this dataframe to an interactive table.\"\n",
              "              style=\"display:none;\">\n",
              "        \n",
              "  <svg xmlns=\"http://www.w3.org/2000/svg\" height=\"24px\"viewBox=\"0 0 24 24\"\n",
              "       width=\"24px\">\n",
              "    <path d=\"M0 0h24v24H0V0z\" fill=\"none\"/>\n",
              "    <path d=\"M18.56 5.44l.94 2.06.94-2.06 2.06-.94-2.06-.94-.94-2.06-.94 2.06-2.06.94zm-11 1L8.5 8.5l.94-2.06 2.06-.94-2.06-.94L8.5 2.5l-.94 2.06-2.06.94zm10 10l.94 2.06.94-2.06 2.06-.94-2.06-.94-.94-2.06-.94 2.06-2.06.94z\"/><path d=\"M17.41 7.96l-1.37-1.37c-.4-.4-.92-.59-1.43-.59-.52 0-1.04.2-1.43.59L10.3 9.45l-7.72 7.72c-.78.78-.78 2.05 0 2.83L4 21.41c.39.39.9.59 1.41.59.51 0 1.02-.2 1.41-.59l7.78-7.78 2.81-2.81c.8-.78.8-2.07 0-2.86zM5.41 20L4 18.59l7.72-7.72 1.47 1.35L5.41 20z\"/>\n",
              "  </svg>\n",
              "      </button>\n",
              "      \n",
              "  <style>\n",
              "    .colab-df-container {\n",
              "      display:flex;\n",
              "      flex-wrap:wrap;\n",
              "      gap: 12px;\n",
              "    }\n",
              "\n",
              "    .colab-df-convert {\n",
              "      background-color: #E8F0FE;\n",
              "      border: none;\n",
              "      border-radius: 50%;\n",
              "      cursor: pointer;\n",
              "      display: none;\n",
              "      fill: #1967D2;\n",
              "      height: 32px;\n",
              "      padding: 0 0 0 0;\n",
              "      width: 32px;\n",
              "    }\n",
              "\n",
              "    .colab-df-convert:hover {\n",
              "      background-color: #E2EBFA;\n",
              "      box-shadow: 0px 1px 2px rgba(60, 64, 67, 0.3), 0px 1px 3px 1px rgba(60, 64, 67, 0.15);\n",
              "      fill: #174EA6;\n",
              "    }\n",
              "\n",
              "    [theme=dark] .colab-df-convert {\n",
              "      background-color: #3B4455;\n",
              "      fill: #D2E3FC;\n",
              "    }\n",
              "\n",
              "    [theme=dark] .colab-df-convert:hover {\n",
              "      background-color: #434B5C;\n",
              "      box-shadow: 0px 1px 3px 1px rgba(0, 0, 0, 0.15);\n",
              "      filter: drop-shadow(0px 1px 2px rgba(0, 0, 0, 0.3));\n",
              "      fill: #FFFFFF;\n",
              "    }\n",
              "  </style>\n",
              "\n",
              "      <script>\n",
              "        const buttonEl =\n",
              "          document.querySelector('#df-d576d5e4-2669-4e20-b868-9aad9ad2caf3 button.colab-df-convert');\n",
              "        buttonEl.style.display =\n",
              "          google.colab.kernel.accessAllowed ? 'block' : 'none';\n",
              "\n",
              "        async function convertToInteractive(key) {\n",
              "          const element = document.querySelector('#df-d576d5e4-2669-4e20-b868-9aad9ad2caf3');\n",
              "          const dataTable =\n",
              "            await google.colab.kernel.invokeFunction('convertToInteractive',\n",
              "                                                     [key], {});\n",
              "          if (!dataTable) return;\n",
              "\n",
              "          const docLinkHtml = 'Like what you see? Visit the ' +\n",
              "            '<a target=\"_blank\" href=https://colab.research.google.com/notebooks/data_table.ipynb>data table notebook</a>'\n",
              "            + ' to learn more about interactive tables.';\n",
              "          element.innerHTML = '';\n",
              "          dataTable['output_type'] = 'display_data';\n",
              "          await google.colab.output.renderOutput(dataTable, element);\n",
              "          const docLink = document.createElement('div');\n",
              "          docLink.innerHTML = docLinkHtml;\n",
              "          element.appendChild(docLink);\n",
              "        }\n",
              "      </script>\n",
              "    </div>\n",
              "  </div>\n",
              "  "
            ],
            "text/plain": [
              "         index  beer_ABV  ...  review_time  review_class\n",
              "0            0       5.0  ...   1234817823             1\n",
              "1            1       6.2  ...   1235915097             1\n",
              "2            2       6.5  ...   1235916604             1\n",
              "3            3       5.0  ...   1234725145             1\n",
              "4            4       7.7  ...   1293735206             1\n",
              "...        ...       ...  ...          ...           ...\n",
              "508353  528792       5.1  ...   1228362569             1\n",
              "508354  528793       5.1  ...   1145135174             1\n",
              "508355  528794       4.9  ...   1228640743             1\n",
              "508356  528795       4.9  ...   1166818317             1\n",
              "508357  528796       4.9  ...   1157572552             1\n",
              "\n",
              "[508358 rows x 15 columns]"
            ]
          },
          "metadata": {},
          "execution_count": 87
        }
      ]
    },
    {
      "cell_type": "code",
      "source": [
        "text.groupby('beer_style').mean()['review_class'].sort_values(ascending=False)"
      ],
      "metadata": {
        "colab": {
          "base_uri": "https://localhost:8080/"
        },
        "id": "VuQXVhoyvmTG",
        "outputId": "413af8e4-e0a8-442d-c7a8-f4b5135990c2"
      },
      "execution_count": 88,
      "outputs": [
        {
          "output_type": "execute_result",
          "data": {
            "text/plain": [
              "beer_style\n",
              "Roggenbier              1.000000\n",
              "Rye Beer                0.995417\n",
              "American Black Ale      0.995251\n",
              "Eisbock                 0.994845\n",
              "Oatmeal Stout           0.993727\n",
              "                          ...   \n",
              "Euro Strong Lager       0.782849\n",
              "Happoshu                0.745455\n",
              "Light Lager             0.736324\n",
              "American Malt Liquor    0.694940\n",
              "Low Alcohol Beer        0.634483\n",
              "Name: review_class, Length: 104, dtype: float64"
            ]
          },
          "metadata": {},
          "execution_count": 88
        }
      ]
    },
    {
      "cell_type": "code",
      "source": [
        "text[(text.beer_style=='Oatmeal Stout')&(text.review_class==1)]['review_text'].count()"
      ],
      "metadata": {
        "colab": {
          "base_uri": "https://localhost:8080/"
        },
        "id": "HUbxMvujwk3Y",
        "outputId": "7ce83dca-9f48-41b3-f7db-aa47d35d1d73"
      },
      "execution_count": 76,
      "outputs": [
        {
          "output_type": "execute_result",
          "data": {
            "text/plain": [
              "5634"
            ]
          },
          "metadata": {},
          "execution_count": 76
        }
      ]
    },
    {
      "cell_type": "code",
      "source": [
        "text[(text.beer_style=='Rye Beer')&(text.review_class==0)]['review_text'].count()\n"
      ],
      "metadata": {
        "colab": {
          "base_uri": "https://localhost:8080/"
        },
        "id": "cHBEW37_xM8N",
        "outputId": "cbf8ff39-f70f-47a0-f4b5-1d2df1714a16"
      },
      "execution_count": 78,
      "outputs": [
        {
          "output_type": "execute_result",
          "data": {
            "text/plain": [
              "621"
            ]
          },
          "metadata": {},
          "execution_count": 78
        }
      ]
    },
    {
      "cell_type": "code",
      "source": [
        "text[(text.beer_style=='Low Alcohol Beer')&(text.review_class==1)]['review_text'].count()\n"
      ],
      "metadata": {
        "colab": {
          "base_uri": "https://localhost:8080/"
        },
        "id": "5czETMMOxnU6",
        "outputId": "e0c036f8-b5d8-4045-d86e-ba29b66dc7e4"
      },
      "execution_count": 80,
      "outputs": [
        {
          "output_type": "execute_result",
          "data": {
            "text/plain": [
              "14"
            ]
          },
          "metadata": {},
          "execution_count": 80
        }
      ]
    },
    {
      "cell_type": "code",
      "source": [
        "sns.heatmap(data=text[text.columns[[6,7,8,9,14]]].corr(),annot=True)"
      ],
      "metadata": {
        "colab": {
          "base_uri": "https://localhost:8080/",
          "height": 373
        },
        "id": "JQz3KxFUxxEu",
        "outputId": "89693557-9e5e-484d-8d97-1aa38b3e6ff5"
      },
      "execution_count": 94,
      "outputs": [
        {
          "output_type": "execute_result",
          "data": {
            "text/plain": [
              "<matplotlib.axes._subplots.AxesSubplot at 0x7f7659552110>"
            ]
          },
          "metadata": {},
          "execution_count": 94
        },
        {
          "output_type": "display_data",
          "data": {
            "image/png": "[encoded data removed]",
            "text/plain": [
              "<Figure size 432x288 with 2 Axes>"
            ]
          },
          "metadata": {
            "needs_background": "light"
          }
        }
      ]
    },
    {
      "cell_type": "code",
      "source": [
        "text[(text.beer_style=='Roggenbier')&(text.review_class==1)]['review_text']"
      ],
      "metadata": {
        "colab": {
          "base_uri": "https://localhost:8080/"
        },
        "id": "acTvZIAl7FA9",
        "outputId": "00be5586-4754-4f37-d100-6c378a607c92"
      },
      "execution_count": 100,
      "outputs": [
        {
          "output_type": "execute_result",
          "data": {
            "text/plain": [
              "54610     Aparently both top and bottom fermented. A: Al...\n",
              "99592     Sampled 4/29/2011 at the brewery. Pours hazy d...\n",
              "161957    Served in a pint glass at the brewery. A: Murk...\n",
              "161958    On tap at the brewery. A: Cloudy tannish color...\n",
              "161959    Served out of a pitcher at the brewpub in Heal...\n",
              "                                ...                        \n",
              "490874    500ml bottle. Pours dark chestnut brown with a...\n",
              "490875    On tap at Churchkey yesterday. Served in a min...\n",
              "490876    First off this is no Belgian-style farmhouse/s...\n",
              "490877    As I'm part Finnish, I'm always interested to ...\n",
              "490878    Be aware. This is not your \"typical\" Farmhouse...\n",
              "Name: review_text, Length: 140, dtype: object"
            ]
          },
          "metadata": {},
          "execution_count": 100
        }
      ]
    },
    {
      "cell_type": "code",
      "source": [
        "text.iloc[490878]['review_text']"
      ],
      "metadata": {
        "colab": {
          "base_uri": "https://localhost:8080/",
          "height": 174
        },
        "id": "t3Q6HSuZ77Vg",
        "outputId": "dda9e934-b2eb-4233-dcfa-a6bf2f18562d"
      },
      "execution_count": 102,
      "outputs": [
        {
          "output_type": "execute_result",
          "data": {
            "application/vnd.google.colaboratory.intrinsic+json": {
              "type": "string"
            },
            "text/plain": [
              "'Be aware. This is not your \"typical\" Farmhouse Ale, despite the label indicating \"Modern Scandinavian Farmhouse Ale.\" This one is \"very modern,\" indeed. This is a huge beer with none of the character, in my opinion, you would expect in a Farmhouse Ale. That being said, huge rye, dark, flavorful brew. The appearance of this beer is extraordinary. Appears black with an initial thick khaki head. Holding to the light it\\'s a clear cranberry copper - very dark and really lovely with the thick head (that unfortunately fades rather quickly. Nose is somewhat average/better than average with medium assertive esters, that \"fruity, banana, carnuba wax\" smell. Hints of sweet plum and hints of roasted grain and coffee. Mouthfeel is thin but the flavors are so assertive and bold some may not care. In fact, if the mouthfeel was thicker this one might not even be drinkable that\\'s how full and bold are the flavors. Taste is just plain big! The bottle label says \"Modern Scandinavian Farmhouse Ale.\" Wow. Strangest farmhouse ale I\\'ve ever tasted. This is a gigantic bitter rye hop bomb. The bitter character is huge on the front palate, fades in the middle so you get some roasted grain and a hint of sweet, and then bowls you over with a huge pine bitter back palate and finish. Finish tastes like you\\'ve chewed rye seeds, which is not necessarily a bad thing. Lots of rye, to say the least. Initially the pine bitter was so big as to be offensive but I have to admit four tastes in it begins to grow on you. Suffice it to say that if you like gigantic bitter brews, this one is for you. If you like a traditional saison or farmhouse ale, despite the label, ....this ain\\'t it!'"
            ]
          },
          "metadata": {},
          "execution_count": 102
        }
      ]
    },
    {
      "cell_type": "code",
      "source": [
        "text[(text.beer_style=='Roggenbier')&(text.review_class==1)]['review_profileName']"
      ],
      "metadata": {
        "colab": {
          "base_uri": "https://localhost:8080/"
        },
        "id": "IDLtfPY-8iSt",
        "outputId": "d80fe6fe-233f-4326-8a31-3d1d6e7e13d1"
      },
      "execution_count": 104,
      "outputs": [
        {
          "output_type": "execute_result",
          "data": {
            "text/plain": [
              "54610       sfprint\n",
              "99592        t0rin0\n",
              "161957    scottfrie\n",
              "161958    avaldivia\n",
              "161959       Norica\n",
              "            ...    \n",
              "490874     gford217\n",
              "490875    Thorpe429\n",
              "490876       oberon\n",
              "490877     jlindros\n",
              "490878      GRG1313\n",
              "Name: review_profileName, Length: 140, dtype: object"
            ]
          },
          "metadata": {},
          "execution_count": 104
        }
      ]
    },
    {
      "cell_type": "code",
      "source": [
        ""
      ],
      "metadata": {
        "id": "GTZmMP81AsNu"
      },
      "execution_count": null,
      "outputs": []
    }
  ]
}